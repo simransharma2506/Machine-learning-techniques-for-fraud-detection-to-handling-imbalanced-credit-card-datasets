{
  "nbformat": 4,
  "nbformat_minor": 0,
  "metadata": {
    "colab": {
      "name": "simrancolab.ipynb",
      "provenance": [],
      "collapsed_sections": [
        "neUGL5zTuOSt",
        "2D7QvfrfuOSv",
        "wCsM361Djui2",
        "UyCRGo_T-Gqu"
      ]
    },
    "kernelspec": {
      "display_name": "Python 3",
      "language": "python",
      "name": "python3"
    },
    "language_info": {
      "codemirror_mode": {
        "name": "ipython",
        "version": 3
      },
      "file_extension": ".py",
      "mimetype": "text/x-python",
      "name": "python",
      "nbconvert_exporter": "python",
      "pygments_lexer": "ipython3",
      "version": "3.8.5"
    }
  },
  "cells": [
    {
      "cell_type": "code",
      "metadata": {
        "id": "QiAtEXzFuOSC"
      },
      "source": [
        "        import numpy as np\n",
        "import pandas as pd\n",
        "import matplotlib.pyplot as plt\n",
        "import seaborn as sns"
      ],
      "execution_count": null,
      "outputs": []
    },
    {
      "cell_type": "code",
      "metadata": {
        "colab": {
          "base_uri": "https://localhost:8080/"
        },
        "id": "wVr7vsfHuOSQ",
        "outputId": "3e3fb05d-5d75-42f6-d29c-bd3462e4b6af"
      },
      "source": [
        "import platform; print(platform.platform())\n",
        "import sys; print(\"Python\", sys.version)\n",
        "import numpy; print(\"NumPy\", numpy.__version__)\n",
        "import scipy; print(\"SciPy\", scipy.__version__)\n",
        "import sklearn; print(\"Scikit-Learn\", sklearn.__version__)\n",
        "import imblearn; print(\"Imbalanced-Learn\", imblearn.__version__)\n"
      ],
      "execution_count": null,
      "outputs": [
        {
          "output_type": "stream",
          "text": [
            "Linux-4.19.112+-x86_64-with-Ubuntu-18.04-bionic\n",
            "Python 3.7.10 (default, Feb 20 2021, 21:17:23) \n",
            "[GCC 7.5.0]\n",
            "NumPy 1.19.5\n",
            "SciPy 1.4.1\n",
            "Scikit-Learn 0.22.2.post1\n"
          ],
          "name": "stdout"
        },
        {
          "output_type": "stream",
          "text": [
            "/usr/local/lib/python3.7/dist-packages/sklearn/externals/six.py:31: FutureWarning: The module is deprecated in version 0.21 and will be removed in version 0.23 since we've dropped support for Python 2.7. Please rely on the official version of six (https://pypi.org/project/six/).\n",
            "  \"(https://pypi.org/project/six/).\", FutureWarning)\n"
          ],
          "name": "stderr"
        },
        {
          "output_type": "stream",
          "text": [
            "Imbalanced-Learn 0.4.3\n"
          ],
          "name": "stdout"
        },
        {
          "output_type": "stream",
          "text": [
            "/usr/local/lib/python3.7/dist-packages/sklearn/utils/deprecation.py:144: FutureWarning: The sklearn.neighbors.base module is  deprecated in version 0.22 and will be removed in version 0.24. The corresponding classes / functions should instead be imported from sklearn.neighbors. Anything that cannot be imported from sklearn.neighbors is now part of the private API.\n",
            "  warnings.warn(message, FutureWarning)\n"
          ],
          "name": "stderr"
        }
      ]
    },
    {
      "cell_type": "code",
      "metadata": {
        "colab": {
          "base_uri": "https://localhost:8080/"
        },
        "id": "rBlucTymeeel",
        "outputId": "0ccd6e87-d8f4-4410-dfc6-47a423704222"
      },
      "source": [
        "from google.colab import drive\n",
        "drive.mount('/content/drive')"
      ],
      "execution_count": null,
      "outputs": [
        {
          "output_type": "stream",
          "text": [
            "Mounted at /content/drive\n"
          ],
          "name": "stdout"
        }
      ]
    },
    {
      "cell_type": "code",
      "metadata": {
        "id": "-UC8rs0dQqwT"
      },
      "source": [
        ""
      ],
      "execution_count": null,
      "outputs": []
    },
    {
      "cell_type": "code",
      "metadata": {
        "colab": {
          "base_uri": "https://localhost:8080/",
          "height": 217
        },
        "id": "a8BxV87zuOST",
        "scrolled": false,
        "outputId": "55a8c806-4a7a-4293-aedf-7af9b1a772cc"
      },
      "source": [
        "df=pd.read_csv('/content/drive/MyDrive/creditcard.csv')\n",
        "df.head()"
      ],
      "execution_count": null,
      "outputs": [
        {
          "output_type": "execute_result",
          "data": {
            "text/html": [
              "<div>\n",
              "<style scoped>\n",
              "    .dataframe tbody tr th:only-of-type {\n",
              "        vertical-align: middle;\n",
              "    }\n",
              "\n",
              "    .dataframe tbody tr th {\n",
              "        vertical-align: top;\n",
              "    }\n",
              "\n",
              "    .dataframe thead th {\n",
              "        text-align: right;\n",
              "    }\n",
              "</style>\n",
              "<table border=\"1\" class=\"dataframe\">\n",
              "  <thead>\n",
              "    <tr style=\"text-align: right;\">\n",
              "      <th></th>\n",
              "      <th>Time</th>\n",
              "      <th>V1</th>\n",
              "      <th>V2</th>\n",
              "      <th>V3</th>\n",
              "      <th>V4</th>\n",
              "      <th>V5</th>\n",
              "      <th>V6</th>\n",
              "      <th>V7</th>\n",
              "      <th>V8</th>\n",
              "      <th>V9</th>\n",
              "      <th>V10</th>\n",
              "      <th>V11</th>\n",
              "      <th>V12</th>\n",
              "      <th>V13</th>\n",
              "      <th>V14</th>\n",
              "      <th>V15</th>\n",
              "      <th>V16</th>\n",
              "      <th>V17</th>\n",
              "      <th>V18</th>\n",
              "      <th>V19</th>\n",
              "      <th>V20</th>\n",
              "      <th>V21</th>\n",
              "      <th>V22</th>\n",
              "      <th>V23</th>\n",
              "      <th>V24</th>\n",
              "      <th>V25</th>\n",
              "      <th>V26</th>\n",
              "      <th>V27</th>\n",
              "      <th>V28</th>\n",
              "      <th>Amount</th>\n",
              "      <th>Class</th>\n",
              "    </tr>\n",
              "  </thead>\n",
              "  <tbody>\n",
              "    <tr>\n",
              "      <th>0</th>\n",
              "      <td>0.0</td>\n",
              "      <td>-1.359807</td>\n",
              "      <td>-0.072781</td>\n",
              "      <td>2.536347</td>\n",
              "      <td>1.378155</td>\n",
              "      <td>-0.338321</td>\n",
              "      <td>0.462388</td>\n",
              "      <td>0.239599</td>\n",
              "      <td>0.098698</td>\n",
              "      <td>0.363787</td>\n",
              "      <td>0.090794</td>\n",
              "      <td>-0.551600</td>\n",
              "      <td>-0.617801</td>\n",
              "      <td>-0.991390</td>\n",
              "      <td>-0.311169</td>\n",
              "      <td>1.468177</td>\n",
              "      <td>-0.470401</td>\n",
              "      <td>0.207971</td>\n",
              "      <td>0.025791</td>\n",
              "      <td>0.403993</td>\n",
              "      <td>0.251412</td>\n",
              "      <td>-0.018307</td>\n",
              "      <td>0.277838</td>\n",
              "      <td>-0.110474</td>\n",
              "      <td>0.066928</td>\n",
              "      <td>0.128539</td>\n",
              "      <td>-0.189115</td>\n",
              "      <td>0.133558</td>\n",
              "      <td>-0.021053</td>\n",
              "      <td>149.62</td>\n",
              "      <td>0</td>\n",
              "    </tr>\n",
              "    <tr>\n",
              "      <th>1</th>\n",
              "      <td>0.0</td>\n",
              "      <td>1.191857</td>\n",
              "      <td>0.266151</td>\n",
              "      <td>0.166480</td>\n",
              "      <td>0.448154</td>\n",
              "      <td>0.060018</td>\n",
              "      <td>-0.082361</td>\n",
              "      <td>-0.078803</td>\n",
              "      <td>0.085102</td>\n",
              "      <td>-0.255425</td>\n",
              "      <td>-0.166974</td>\n",
              "      <td>1.612727</td>\n",
              "      <td>1.065235</td>\n",
              "      <td>0.489095</td>\n",
              "      <td>-0.143772</td>\n",
              "      <td>0.635558</td>\n",
              "      <td>0.463917</td>\n",
              "      <td>-0.114805</td>\n",
              "      <td>-0.183361</td>\n",
              "      <td>-0.145783</td>\n",
              "      <td>-0.069083</td>\n",
              "      <td>-0.225775</td>\n",
              "      <td>-0.638672</td>\n",
              "      <td>0.101288</td>\n",
              "      <td>-0.339846</td>\n",
              "      <td>0.167170</td>\n",
              "      <td>0.125895</td>\n",
              "      <td>-0.008983</td>\n",
              "      <td>0.014724</td>\n",
              "      <td>2.69</td>\n",
              "      <td>0</td>\n",
              "    </tr>\n",
              "    <tr>\n",
              "      <th>2</th>\n",
              "      <td>1.0</td>\n",
              "      <td>-1.358354</td>\n",
              "      <td>-1.340163</td>\n",
              "      <td>1.773209</td>\n",
              "      <td>0.379780</td>\n",
              "      <td>-0.503198</td>\n",
              "      <td>1.800499</td>\n",
              "      <td>0.791461</td>\n",
              "      <td>0.247676</td>\n",
              "      <td>-1.514654</td>\n",
              "      <td>0.207643</td>\n",
              "      <td>0.624501</td>\n",
              "      <td>0.066084</td>\n",
              "      <td>0.717293</td>\n",
              "      <td>-0.165946</td>\n",
              "      <td>2.345865</td>\n",
              "      <td>-2.890083</td>\n",
              "      <td>1.109969</td>\n",
              "      <td>-0.121359</td>\n",
              "      <td>-2.261857</td>\n",
              "      <td>0.524980</td>\n",
              "      <td>0.247998</td>\n",
              "      <td>0.771679</td>\n",
              "      <td>0.909412</td>\n",
              "      <td>-0.689281</td>\n",
              "      <td>-0.327642</td>\n",
              "      <td>-0.139097</td>\n",
              "      <td>-0.055353</td>\n",
              "      <td>-0.059752</td>\n",
              "      <td>378.66</td>\n",
              "      <td>0</td>\n",
              "    </tr>\n",
              "    <tr>\n",
              "      <th>3</th>\n",
              "      <td>1.0</td>\n",
              "      <td>-0.966272</td>\n",
              "      <td>-0.185226</td>\n",
              "      <td>1.792993</td>\n",
              "      <td>-0.863291</td>\n",
              "      <td>-0.010309</td>\n",
              "      <td>1.247203</td>\n",
              "      <td>0.237609</td>\n",
              "      <td>0.377436</td>\n",
              "      <td>-1.387024</td>\n",
              "      <td>-0.054952</td>\n",
              "      <td>-0.226487</td>\n",
              "      <td>0.178228</td>\n",
              "      <td>0.507757</td>\n",
              "      <td>-0.287924</td>\n",
              "      <td>-0.631418</td>\n",
              "      <td>-1.059647</td>\n",
              "      <td>-0.684093</td>\n",
              "      <td>1.965775</td>\n",
              "      <td>-1.232622</td>\n",
              "      <td>-0.208038</td>\n",
              "      <td>-0.108300</td>\n",
              "      <td>0.005274</td>\n",
              "      <td>-0.190321</td>\n",
              "      <td>-1.175575</td>\n",
              "      <td>0.647376</td>\n",
              "      <td>-0.221929</td>\n",
              "      <td>0.062723</td>\n",
              "      <td>0.061458</td>\n",
              "      <td>123.50</td>\n",
              "      <td>0</td>\n",
              "    </tr>\n",
              "    <tr>\n",
              "      <th>4</th>\n",
              "      <td>2.0</td>\n",
              "      <td>-1.158233</td>\n",
              "      <td>0.877737</td>\n",
              "      <td>1.548718</td>\n",
              "      <td>0.403034</td>\n",
              "      <td>-0.407193</td>\n",
              "      <td>0.095921</td>\n",
              "      <td>0.592941</td>\n",
              "      <td>-0.270533</td>\n",
              "      <td>0.817739</td>\n",
              "      <td>0.753074</td>\n",
              "      <td>-0.822843</td>\n",
              "      <td>0.538196</td>\n",
              "      <td>1.345852</td>\n",
              "      <td>-1.119670</td>\n",
              "      <td>0.175121</td>\n",
              "      <td>-0.451449</td>\n",
              "      <td>-0.237033</td>\n",
              "      <td>-0.038195</td>\n",
              "      <td>0.803487</td>\n",
              "      <td>0.408542</td>\n",
              "      <td>-0.009431</td>\n",
              "      <td>0.798278</td>\n",
              "      <td>-0.137458</td>\n",
              "      <td>0.141267</td>\n",
              "      <td>-0.206010</td>\n",
              "      <td>0.502292</td>\n",
              "      <td>0.219422</td>\n",
              "      <td>0.215153</td>\n",
              "      <td>69.99</td>\n",
              "      <td>0</td>\n",
              "    </tr>\n",
              "  </tbody>\n",
              "</table>\n",
              "</div>"
            ],
            "text/plain": [
              "   Time        V1        V2        V3  ...       V27       V28  Amount  Class\n",
              "0   0.0 -1.359807 -0.072781  2.536347  ...  0.133558 -0.021053  149.62      0\n",
              "1   0.0  1.191857  0.266151  0.166480  ... -0.008983  0.014724    2.69      0\n",
              "2   1.0 -1.358354 -1.340163  1.773209  ... -0.055353 -0.059752  378.66      0\n",
              "3   1.0 -0.966272 -0.185226  1.792993  ...  0.062723  0.061458  123.50      0\n",
              "4   2.0 -1.158233  0.877737  1.548718  ...  0.219422  0.215153   69.99      0\n",
              "\n",
              "[5 rows x 31 columns]"
            ]
          },
          "metadata": {
            "tags": []
          },
          "execution_count": 5
        }
      ]
    },
    {
      "cell_type": "code",
      "metadata": {
        "colab": {
          "base_uri": "https://localhost:8080/"
        },
        "id": "DXKjIYiduOSU",
        "outputId": "8a559352-fc61-428c-e731-f8ca7985f2ce"
      },
      "source": [
        "# determine the number of records in the dataset\n",
        "print('The dataset contains {0} rows and {1} columns.'.format(df.shape[0], df.shape[1]))"
      ],
      "execution_count": null,
      "outputs": [
        {
          "output_type": "stream",
          "text": [
            "The dataset contains 284807 rows and 31 columns.\n"
          ],
          "name": "stdout"
        }
      ]
    },
    {
      "cell_type": "code",
      "metadata": {
        "colab": {
          "base_uri": "https://localhost:8080/"
        },
        "id": "7BBGP61PuOSV",
        "outputId": "afe973cb-3894-470e-bf60-fe908b36ffc0"
      },
      "source": [
        "#explore the dataset\n",
        "print(df.columns)"
      ],
      "execution_count": null,
      "outputs": [
        {
          "output_type": "stream",
          "text": [
            "Index(['Time', 'V1', 'V2', 'V3', 'V4', 'V5', 'V6', 'V7', 'V8', 'V9', 'V10',\n",
            "       'V11', 'V12', 'V13', 'V14', 'V15', 'V16', 'V17', 'V18', 'V19', 'V20',\n",
            "       'V21', 'V22', 'V23', 'V24', 'V25', 'V26', 'V27', 'V28', 'Amount',\n",
            "       'Class'],\n",
            "      dtype='object')\n"
          ],
          "name": "stdout"
        }
      ]
    },
    {
      "cell_type": "markdown",
      "metadata": {
        "id": "uiI3AZLsuOSW"
      },
      "source": [
        "# check for missing values and data types of the columns\n"
      ]
    },
    {
      "cell_type": "code",
      "metadata": {
        "colab": {
          "base_uri": "https://localhost:8080/"
        },
        "id": "GJF4-SsOuOSW",
        "outputId": "f11d46a6-bc3d-47ad-b405-6fc8d0af17c5"
      },
      "source": [
        "df.info()"
      ],
      "execution_count": null,
      "outputs": [
        {
          "output_type": "stream",
          "text": [
            "<class 'pandas.core.frame.DataFrame'>\n",
            "RangeIndex: 284807 entries, 0 to 284806\n",
            "Data columns (total 31 columns):\n",
            " #   Column  Non-Null Count   Dtype  \n",
            "---  ------  --------------   -----  \n",
            " 0   Time    284807 non-null  float64\n",
            " 1   V1      284807 non-null  float64\n",
            " 2   V2      284807 non-null  float64\n",
            " 3   V3      284807 non-null  float64\n",
            " 4   V4      284807 non-null  float64\n",
            " 5   V5      284807 non-null  float64\n",
            " 6   V6      284807 non-null  float64\n",
            " 7   V7      284807 non-null  float64\n",
            " 8   V8      284807 non-null  float64\n",
            " 9   V9      284807 non-null  float64\n",
            " 10  V10     284807 non-null  float64\n",
            " 11  V11     284807 non-null  float64\n",
            " 12  V12     284807 non-null  float64\n",
            " 13  V13     284807 non-null  float64\n",
            " 14  V14     284807 non-null  float64\n",
            " 15  V15     284807 non-null  float64\n",
            " 16  V16     284807 non-null  float64\n",
            " 17  V17     284807 non-null  float64\n",
            " 18  V18     284807 non-null  float64\n",
            " 19  V19     284807 non-null  float64\n",
            " 20  V20     284807 non-null  float64\n",
            " 21  V21     284807 non-null  float64\n",
            " 22  V22     284807 non-null  float64\n",
            " 23  V23     284807 non-null  float64\n",
            " 24  V24     284807 non-null  float64\n",
            " 25  V25     284807 non-null  float64\n",
            " 26  V26     284807 non-null  float64\n",
            " 27  V27     284807 non-null  float64\n",
            " 28  V28     284807 non-null  float64\n",
            " 29  Amount  284807 non-null  float64\n",
            " 30  Class   284807 non-null  int64  \n",
            "dtypes: float64(30), int64(1)\n",
            "memory usage: 67.4 MB\n"
          ],
          "name": "stdout"
        }
      ]
    },
    {
      "cell_type": "markdown",
      "metadata": {
        "id": "cEjG5vekuOSX"
      },
      "source": [
        "# Explore label class"
      ]
    },
    {
      "cell_type": "code",
      "metadata": {
        "colab": {
          "base_uri": "https://localhost:8080/"
        },
        "id": "Kr5_1lkxuOSY",
        "outputId": "363afed2-28e5-4d9f-cd7d-b020499b1a8d"
      },
      "source": [
        "print('Normal transactions count: ', df['Class'].value_counts().values[0])\n",
        "print('Fraudulent transactions count: ', df['Class'].value_counts().values[1])"
      ],
      "execution_count": null,
      "outputs": [
        {
          "output_type": "stream",
          "text": [
            "Normal transactions count:  284315\n",
            "Fraudulent transactions count:  492\n"
          ],
          "name": "stdout"
        }
      ]
    },
    {
      "cell_type": "code",
      "metadata": {
        "colab": {
          "base_uri": "https://localhost:8080/"
        },
        "id": "KSlhfcomuOSZ",
        "outputId": "fac0fbe3-278a-4d42-aeac-92d7436fbc36"
      },
      "source": [
        "print('Normal transactions', round(df['Class'].value_counts()[0]/len(df) * 100,2), '% of the dataset')\n",
        "print('Frauds', round(df['Class'].value_counts()[1]/len(df) * 100,2), '% of the dataset')"
      ],
      "execution_count": null,
      "outputs": [
        {
          "output_type": "stream",
          "text": [
            "Normal transactions 99.83 % of the dataset\n",
            "Frauds 0.17 % of the dataset\n"
          ],
          "name": "stdout"
        }
      ]
    },
    {
      "cell_type": "code",
      "metadata": {
        "id": "B0OSXnLUuOSZ"
      },
      "source": [
        "# Count the occurrences of fraud and no fraud cases\n",
        "LABELS = [\"Normal\", \"Fraud\"]\n",
        "fnf = df[\"Class\"].value_counts()"
      ],
      "execution_count": null,
      "outputs": []
    },
    {
      "cell_type": "code",
      "metadata": {
        "colab": {
          "base_uri": "https://localhost:8080/",
          "height": 312
        },
        "id": "v9tRFiAouOSa",
        "scrolled": true,
        "outputId": "70b92883-2291-4993-99d7-f849e4f170d3"
      },
      "source": [
        "# Plottingg your data\n",
        "fnf.plot(kind = 'bar',title = 'Frequency by observation number',rot=0)\n",
        "plt.xticks(range(2),LABELS)\n",
        "plt.xlabel(\"Class (0:Normal, 1:Fraud)\")\n",
        "plt.ylabel(\"Number of Observations\")"
      ],
      "execution_count": null,
      "outputs": [
        {
          "output_type": "execute_result",
          "data": {
            "text/plain": [
              "Text(0, 0.5, 'Number of Observations')"
            ]
          },
          "metadata": {
            "tags": []
          },
          "execution_count": 12
        },
        {
          "output_type": "display_data",
          "data": {
            "image/png": "[encoded data removed]",
            "text/plain": [
              "<Figure size 432x288 with 1 Axes>"
            ]
          },
          "metadata": {
            "tags": [],
            "needs_background": "light"
          }
        }
      ]
    },
    {
      "cell_type": "code",
      "metadata": {
        "colab": {
          "base_uri": "https://localhost:8080/",
          "height": 264
        },
        "id": "F392aNbguOSb",
        "outputId": "13081617-16e1-4da5-9a5a-080ee72f9602"
      },
      "source": [
        "# Plot how fraud and non-fraud cases are scattered \n",
        "plt.scatter(df.loc[df['Class'] == 0]['V1'], df.loc[df['Class'] == 0]['V2'], label=\"Class #0\", alpha=0.5, linewidth=0.15,c='b')\n",
        "plt.scatter(df.loc[df['Class'] == 1]['V1'], df.loc[df['Class'] == 1]['V2'], label=\"Class #1\", alpha=0.5, linewidth=0.15,c='r')\n",
        "plt.show()\n"
      ],
      "execution_count": null,
      "outputs": [
        {
          "output_type": "display_data",
          "data": {
            "image/png": "[encoded data removed]",
            "text/plain": [
              "<Figure size 432x288 with 1 Axes>"
            ]
          },
          "metadata": {
            "tags": [],
            "needs_background": "light"
          }
        }
      ]
    },
    {
      "cell_type": "markdown",
      "metadata": {
        "id": "6xq8w2LcuOSb"
      },
      "source": [
        "# Distribution of 2 Features : Time and Amount\n"
      ]
    },
    {
      "cell_type": "code",
      "metadata": {
        "colab": {
          "base_uri": "https://localhost:8080/",
          "height": 373
        },
        "id": "MN99KgUKuOSc",
        "outputId": "028b96eb-fe34-46bf-e08b-3a4990b8d800"
      },
      "source": [
        "import seaborn as sns\n",
        "\n",
        "fig, ax = plt.subplots(1, 2, figsize=(18,4))\n",
        "\n",
        "# Plot the distribution of 'Time' feature \n",
        "sns.distplot(df['Time'].values/(60*60), ax=ax[0], color='r')\n",
        "ax[0].set_title('Distribution of Transaction Time', fontsize=14)\n",
        "ax[0].set_xlim([min(df['Time'].values/(60*60)), max(df['Time'].values/(60*60))])\n",
        "\n",
        "sns.distplot(df['Amount'].values, ax=ax[1], color='b')\n",
        "ax[1].set_title('Distribution of Transaction Amount', fontsize=14)\n",
        "ax[1].set_xlim([min(df['Amount'].values), max(df['Amount'].values)])\n",
        "\n",
        "plt.show()"
      ],
      "execution_count": null,
      "outputs": [
        {
          "output_type": "stream",
          "text": [
            "/usr/local/lib/python3.7/dist-packages/seaborn/distributions.py:2557: FutureWarning: `distplot` is a deprecated function and will be removed in a future version. Please adapt your code to use either `displot` (a figure-level function with similar flexibility) or `histplot` (an axes-level function for histograms).\n",
            "  warnings.warn(msg, FutureWarning)\n",
            "/usr/local/lib/python3.7/dist-packages/seaborn/distributions.py:2557: FutureWarning: `distplot` is a deprecated function and will be removed in a future version. Please adapt your code to use either `displot` (a figure-level function with similar flexibility) or `histplot` (an axes-level function for histograms).\n",
            "  warnings.warn(msg, FutureWarning)\n"
          ],
          "name": "stderr"
        },
        {
          "output_type": "display_data",
          "data": {
            "image/png": "[encoded data removed]",
            "text/plain": [
              "<Figure size 1296x288 with 2 Axes>"
            ]
          },
          "metadata": {
            "tags": [],
            "needs_background": "light"
          }
        }
      ]
    },
    {
      "cell_type": "markdown",
      "metadata": {
        "id": "UEkO4LyHuOSc"
      },
      "source": [
        "# Cut Up the Dataset into Two Datasets and Summarize\n",
        "\n"
      ]
    },
    {
      "cell_type": "code",
      "metadata": {
        "id": "b2LMTKoIuOSd"
      },
      "source": [
        "# Seperate total data into non-fraud and fraud cases\n",
        "df_nonfraud = df[df.Class == 0] #save non-fraud df observations into a separate df\n",
        "df_fraud = df[df.Class == 1] #do the same for frauds"
      ],
      "execution_count": null,
      "outputs": []
    },
    {
      "cell_type": "markdown",
      "metadata": {
        "id": "-qmJPSOZuOSd"
      },
      "source": [
        "# Compare the Amount of transactions in two separate datasets"
      ]
    },
    {
      "cell_type": "code",
      "metadata": {
        "colab": {
          "base_uri": "https://localhost:8080/"
        },
        "id": "uloL3I5kuOSe",
        "outputId": "92d6b40d-c8e3-4823-ba17-8e4bd0187954"
      },
      "source": [
        "# Summarize statistics and see differences between fraud and normal transactions\n",
        "print(df_nonfraud.Amount.describe())\n",
        "print('_'*25)\n",
        "print(df_fraud.Amount.describe())\n",
        "\n",
        "# Import the module\n",
        "from scipy import stats\n",
        "F, p = stats.f_oneway(df['Amount'][df['Class'] == 0], df['Amount'][df['Class'] == 1])\n",
        "print(\"F:\", F)\n",
        "print(\"p:\",p)"
      ],
      "execution_count": null,
      "outputs": [
        {
          "output_type": "stream",
          "text": [
            "count    284315.000000\n",
            "mean         88.291022\n",
            "std         250.105092\n",
            "min           0.000000\n",
            "25%           5.650000\n",
            "50%          22.000000\n",
            "75%          77.050000\n",
            "max       25691.160000\n",
            "Name: Amount, dtype: float64\n",
            "_________________________\n",
            "count     492.000000\n",
            "mean      122.211321\n",
            "std       256.683288\n",
            "min         0.000000\n",
            "25%         1.000000\n",
            "50%         9.250000\n",
            "75%       105.890000\n",
            "max      2125.870000\n",
            "Name: Amount, dtype: float64\n",
            "F: 9.033344712018891\n",
            "p: 0.0026512206498171095\n"
          ],
          "name": "stdout"
        }
      ]
    },
    {
      "cell_type": "markdown",
      "metadata": {
        "id": "SacUS9Q0uOSe"
      },
      "source": [
        "# Transaction Amount Visualization"
      ]
    },
    {
      "cell_type": "code",
      "metadata": {
        "colab": {
          "base_uri": "https://localhost:8080/",
          "height": 294
        },
        "id": "lLPxSYrcuOSf",
        "outputId": "137d15e8-9cfd-440e-d8b5-dafa007a0132"
      },
      "source": [
        "# Plot of high value transactions($200-$2000)\n",
        "bins = np.linspace(200, 2000, 100)\n",
        "plt.hist(df_nonfraud.Amount, bins, alpha=1, density=True, label='Non-Fraud')\n",
        "plt.hist(df_fraud.Amount, bins, alpha=1, density=True, label='Fraud')\n",
        "plt.legend(loc='upper right')\n",
        "plt.title(\"Amount by percentage of transactions (transactions \\$200-$2000)\")\n",
        "plt.xlabel(\"Transaction amount (USD)\")\n",
        "plt.ylabel(\"Percentage of transactions (%)\")\n",
        "plt.show()"
      ],
      "execution_count": null,
      "outputs": [
        {
          "output_type": "display_data",
          "data": {
            "image/png": "[encoded data removed]",
            "text/plain": [
              "<Figure size 432x288 with 1 Axes>"
            ]
          },
          "metadata": {
            "tags": [],
            "needs_background": "light"
          }
        }
      ]
    },
    {
      "cell_type": "markdown",
      "metadata": {
        "id": "QVmt2F9_uOSf"
      },
      "source": [
        "# Transaction Hour"
      ]
    },
    {
      "cell_type": "code",
      "metadata": {
        "colab": {
          "base_uri": "https://localhost:8080/",
          "height": 294
        },
        "id": "QMe8pDZQuOSg",
        "outputId": "e63c5b1d-03a1-4085-b07d-3e9296154a83"
      },
      "source": [
        "# Plot of transactions in 48 hours\n",
        "bins = np.linspace(0, 48, 48) #48 hours\n",
        "plt.hist((df_nonfraud.Time/(60*60)), bins, alpha=1, density=True, label='Non-Fraud')\n",
        "plt.hist((df_fraud.Time/(60*60)), bins, alpha=0.6, density=True, label='Fraud')\n",
        "plt.legend(loc='upper right')\n",
        "plt.title(\"Percentage of transactions by hour\")\n",
        "plt.xlabel(\"Transaction time from first transaction in the dataset (hours)\")\n",
        "plt.ylabel(\"Percentage of transactions (%)\")\n",
        "plt.show()"
      ],
      "execution_count": null,
      "outputs": [
        {
          "output_type": "display_data",
          "data": {
            "image/png": "[encoded data removed]",
            "text/plain": [
              "<Figure size 432x288 with 1 Axes>"
            ]
          },
          "metadata": {
            "tags": [],
            "needs_background": "light"
          }
        }
      ]
    },
    {
      "cell_type": "markdown",
      "metadata": {
        "id": "tnuDOasBuOSg"
      },
      "source": [
        "# Transaction Amount vs. Hour\n"
      ]
    },
    {
      "cell_type": "code",
      "metadata": {
        "colab": {
          "base_uri": "https://localhost:8080/",
          "height": 294
        },
        "id": "xd5lHqBkuOSh",
        "outputId": "a36d4a82-1a36-4d12-e045-b408441de3e8"
      },
      "source": [
        "# Plot of transactions in 48 hours\n",
        "plt.scatter((df_nonfraud.Time/(60*60)), df_nonfraud.Amount, alpha=0.6, label='Non-Fraud')\n",
        "plt.scatter((df_fraud.Time/(60*60)), df_fraud.Amount, alpha=0.9, label='Fraud')\n",
        "plt.title(\"Amount of transaction by hour\")\n",
        "plt.xlabel(\"Transaction time as measured from first transaction in the dataset (hours)\")\n",
        "plt.ylabel('Amount (USD)')\n",
        "plt.legend(loc='upper right')\n",
        "plt.show()"
      ],
      "execution_count": null,
      "outputs": [
        {
          "output_type": "display_data",
          "data": {
            "image/png": "[encoded data removed]",
            "text/plain": [
              "<Figure size 432x288 with 1 Axes>"
            ]
          },
          "metadata": {
            "tags": [],
            "needs_background": "light"
          }
        }
      ]
    },
    {
      "cell_type": "markdown",
      "metadata": {
        "id": "cSxzEvJiuOSh"
      },
      "source": [
        "# Feature Scaling"
      ]
    },
    {
      "cell_type": "code",
      "metadata": {
        "colab": {
          "base_uri": "https://localhost:8080/",
          "height": 217
        },
        "id": "CWVPvq8IuOSi",
        "outputId": "9f31ec9c-b0f3-4059-e330-2f5744da32d0"
      },
      "source": [
        "# Scale \"Time\" and \"Amount\"\n",
        "from sklearn.preprocessing import StandardScaler, RobustScaler\n",
        "df['scaled_amount'] = RobustScaler().fit_transform(df['Amount'].values.reshape(-1,1))\n",
        "df['scaled_time'] = RobustScaler().fit_transform(df['Time'].values.reshape(-1,1))\n",
        "\n",
        "# Make a new dataset named \"df_scaled\" dropping out original \"Time\" and \"Amount\"\n",
        "df_scaled = df.drop(['Time','Amount'],axis = 1,inplace=False)\n",
        "df_scaled.head()"
      ],
      "execution_count": null,
      "outputs": [
        {
          "output_type": "execute_result",
          "data": {
            "text/html": [
              "<div>\n",
              "<style scoped>\n",
              "    .dataframe tbody tr th:only-of-type {\n",
              "        vertical-align: middle;\n",
              "    }\n",
              "\n",
              "    .dataframe tbody tr th {\n",
              "        vertical-align: top;\n",
              "    }\n",
              "\n",
              "    .dataframe thead th {\n",
              "        text-align: right;\n",
              "    }\n",
              "</style>\n",
              "<table border=\"1\" class=\"dataframe\">\n",
              "  <thead>\n",
              "    <tr style=\"text-align: right;\">\n",
              "      <th></th>\n",
              "      <th>V1</th>\n",
              "      <th>V2</th>\n",
              "      <th>V3</th>\n",
              "      <th>V4</th>\n",
              "      <th>V5</th>\n",
              "      <th>V6</th>\n",
              "      <th>V7</th>\n",
              "      <th>V8</th>\n",
              "      <th>V9</th>\n",
              "      <th>V10</th>\n",
              "      <th>V11</th>\n",
              "      <th>V12</th>\n",
              "      <th>V13</th>\n",
              "      <th>V14</th>\n",
              "      <th>V15</th>\n",
              "      <th>V16</th>\n",
              "      <th>V17</th>\n",
              "      <th>V18</th>\n",
              "      <th>V19</th>\n",
              "      <th>V20</th>\n",
              "      <th>V21</th>\n",
              "      <th>V22</th>\n",
              "      <th>V23</th>\n",
              "      <th>V24</th>\n",
              "      <th>V25</th>\n",
              "      <th>V26</th>\n",
              "      <th>V27</th>\n",
              "      <th>V28</th>\n",
              "      <th>Class</th>\n",
              "      <th>scaled_amount</th>\n",
              "      <th>scaled_time</th>\n",
              "    </tr>\n",
              "  </thead>\n",
              "  <tbody>\n",
              "    <tr>\n",
              "      <th>0</th>\n",
              "      <td>-1.359807</td>\n",
              "      <td>-0.072781</td>\n",
              "      <td>2.536347</td>\n",
              "      <td>1.378155</td>\n",
              "      <td>-0.338321</td>\n",
              "      <td>0.462388</td>\n",
              "      <td>0.239599</td>\n",
              "      <td>0.098698</td>\n",
              "      <td>0.363787</td>\n",
              "      <td>0.090794</td>\n",
              "      <td>-0.551600</td>\n",
              "      <td>-0.617801</td>\n",
              "      <td>-0.991390</td>\n",
              "      <td>-0.311169</td>\n",
              "      <td>1.468177</td>\n",
              "      <td>-0.470401</td>\n",
              "      <td>0.207971</td>\n",
              "      <td>0.025791</td>\n",
              "      <td>0.403993</td>\n",
              "      <td>0.251412</td>\n",
              "      <td>-0.018307</td>\n",
              "      <td>0.277838</td>\n",
              "      <td>-0.110474</td>\n",
              "      <td>0.066928</td>\n",
              "      <td>0.128539</td>\n",
              "      <td>-0.189115</td>\n",
              "      <td>0.133558</td>\n",
              "      <td>-0.021053</td>\n",
              "      <td>0</td>\n",
              "      <td>1.783274</td>\n",
              "      <td>-0.994983</td>\n",
              "    </tr>\n",
              "    <tr>\n",
              "      <th>1</th>\n",
              "      <td>1.191857</td>\n",
              "      <td>0.266151</td>\n",
              "      <td>0.166480</td>\n",
              "      <td>0.448154</td>\n",
              "      <td>0.060018</td>\n",
              "      <td>-0.082361</td>\n",
              "      <td>-0.078803</td>\n",
              "      <td>0.085102</td>\n",
              "      <td>-0.255425</td>\n",
              "      <td>-0.166974</td>\n",
              "      <td>1.612727</td>\n",
              "      <td>1.065235</td>\n",
              "      <td>0.489095</td>\n",
              "      <td>-0.143772</td>\n",
              "      <td>0.635558</td>\n",
              "      <td>0.463917</td>\n",
              "      <td>-0.114805</td>\n",
              "      <td>-0.183361</td>\n",
              "      <td>-0.145783</td>\n",
              "      <td>-0.069083</td>\n",
              "      <td>-0.225775</td>\n",
              "      <td>-0.638672</td>\n",
              "      <td>0.101288</td>\n",
              "      <td>-0.339846</td>\n",
              "      <td>0.167170</td>\n",
              "      <td>0.125895</td>\n",
              "      <td>-0.008983</td>\n",
              "      <td>0.014724</td>\n",
              "      <td>0</td>\n",
              "      <td>-0.269825</td>\n",
              "      <td>-0.994983</td>\n",
              "    </tr>\n",
              "    <tr>\n",
              "      <th>2</th>\n",
              "      <td>-1.358354</td>\n",
              "      <td>-1.340163</td>\n",
              "      <td>1.773209</td>\n",
              "      <td>0.379780</td>\n",
              "      <td>-0.503198</td>\n",
              "      <td>1.800499</td>\n",
              "      <td>0.791461</td>\n",
              "      <td>0.247676</td>\n",
              "      <td>-1.514654</td>\n",
              "      <td>0.207643</td>\n",
              "      <td>0.624501</td>\n",
              "      <td>0.066084</td>\n",
              "      <td>0.717293</td>\n",
              "      <td>-0.165946</td>\n",
              "      <td>2.345865</td>\n",
              "      <td>-2.890083</td>\n",
              "      <td>1.109969</td>\n",
              "      <td>-0.121359</td>\n",
              "      <td>-2.261857</td>\n",
              "      <td>0.524980</td>\n",
              "      <td>0.247998</td>\n",
              "      <td>0.771679</td>\n",
              "      <td>0.909412</td>\n",
              "      <td>-0.689281</td>\n",
              "      <td>-0.327642</td>\n",
              "      <td>-0.139097</td>\n",
              "      <td>-0.055353</td>\n",
              "      <td>-0.059752</td>\n",
              "      <td>0</td>\n",
              "      <td>4.983721</td>\n",
              "      <td>-0.994972</td>\n",
              "    </tr>\n",
              "    <tr>\n",
              "      <th>3</th>\n",
              "      <td>-0.966272</td>\n",
              "      <td>-0.185226</td>\n",
              "      <td>1.792993</td>\n",
              "      <td>-0.863291</td>\n",
              "      <td>-0.010309</td>\n",
              "      <td>1.247203</td>\n",
              "      <td>0.237609</td>\n",
              "      <td>0.377436</td>\n",
              "      <td>-1.387024</td>\n",
              "      <td>-0.054952</td>\n",
              "      <td>-0.226487</td>\n",
              "      <td>0.178228</td>\n",
              "      <td>0.507757</td>\n",
              "      <td>-0.287924</td>\n",
              "      <td>-0.631418</td>\n",
              "      <td>-1.059647</td>\n",
              "      <td>-0.684093</td>\n",
              "      <td>1.965775</td>\n",
              "      <td>-1.232622</td>\n",
              "      <td>-0.208038</td>\n",
              "      <td>-0.108300</td>\n",
              "      <td>0.005274</td>\n",
              "      <td>-0.190321</td>\n",
              "      <td>-1.175575</td>\n",
              "      <td>0.647376</td>\n",
              "      <td>-0.221929</td>\n",
              "      <td>0.062723</td>\n",
              "      <td>0.061458</td>\n",
              "      <td>0</td>\n",
              "      <td>1.418291</td>\n",
              "      <td>-0.994972</td>\n",
              "    </tr>\n",
              "    <tr>\n",
              "      <th>4</th>\n",
              "      <td>-1.158233</td>\n",
              "      <td>0.877737</td>\n",
              "      <td>1.548718</td>\n",
              "      <td>0.403034</td>\n",
              "      <td>-0.407193</td>\n",
              "      <td>0.095921</td>\n",
              "      <td>0.592941</td>\n",
              "      <td>-0.270533</td>\n",
              "      <td>0.817739</td>\n",
              "      <td>0.753074</td>\n",
              "      <td>-0.822843</td>\n",
              "      <td>0.538196</td>\n",
              "      <td>1.345852</td>\n",
              "      <td>-1.119670</td>\n",
              "      <td>0.175121</td>\n",
              "      <td>-0.451449</td>\n",
              "      <td>-0.237033</td>\n",
              "      <td>-0.038195</td>\n",
              "      <td>0.803487</td>\n",
              "      <td>0.408542</td>\n",
              "      <td>-0.009431</td>\n",
              "      <td>0.798278</td>\n",
              "      <td>-0.137458</td>\n",
              "      <td>0.141267</td>\n",
              "      <td>-0.206010</td>\n",
              "      <td>0.502292</td>\n",
              "      <td>0.219422</td>\n",
              "      <td>0.215153</td>\n",
              "      <td>0</td>\n",
              "      <td>0.670579</td>\n",
              "      <td>-0.994960</td>\n",
              "    </tr>\n",
              "  </tbody>\n",
              "</table>\n",
              "</div>"
            ],
            "text/plain": [
              "         V1        V2        V3  ...  Class  scaled_amount  scaled_time\n",
              "0 -1.359807 -0.072781  2.536347  ...      0       1.783274    -0.994983\n",
              "1  1.191857  0.266151  0.166480  ...      0      -0.269825    -0.994983\n",
              "2 -1.358354 -1.340163  1.773209  ...      0       4.983721    -0.994972\n",
              "3 -0.966272 -0.185226  1.792993  ...      0       1.418291    -0.994972\n",
              "4 -1.158233  0.877737  1.548718  ...      0       0.670579    -0.994960\n",
              "\n",
              "[5 rows x 31 columns]"
            ]
          },
          "metadata": {
            "tags": []
          },
          "execution_count": 20
        }
      ]
    },
    {
      "cell_type": "markdown",
      "metadata": {
        "id": "LpoTmMw6uOSi"
      },
      "source": [
        "# Extract features from our scaled dataset \"df_scaled\"\n"
      ]
    },
    {
      "cell_type": "code",
      "metadata": {
        "id": "vcGm_xpIuOSj"
      },
      "source": [
        "# Define the prep_data function to extrac features \n",
        "def prep_data(df):\n",
        "    X = df.drop(['Class'],axis=1, inplace=False) #  \n",
        "    X = np.array(X).astype(np.float)\n",
        "    y = df[['Class']]  \n",
        "    y = np.array(y).astype(np.float)\n",
        "    return X,y\n",
        "\n",
        "# Create X and y from the prep_data function \n",
        "X, y = prep_data(df_scaled)\n"
      ],
      "execution_count": null,
      "outputs": []
    },
    {
      "cell_type": "markdown",
      "metadata": {
        "id": "H88hS7bcuOSj"
      },
      "source": [
        "# Resample data with RUS, ROS and SMOTE"
      ]
    },
    {
      "cell_type": "code",
      "metadata": {
        "colab": {
          "base_uri": "https://localhost:8080/"
        },
        "id": "4Yivin9-uOSj",
        "outputId": "215c41fa-e048-49ab-fd51-a3ab585aac18"
      },
      "source": [
        "from sklearn.model_selection import train_test_split\n",
        "from imblearn.under_sampling import RandomUnderSampler\n",
        "from imblearn.over_sampling import RandomOverSampler\n",
        "from imblearn.over_sampling import SMOTE\n",
        "from imblearn.over_sampling import BorderlineSMOTE\n",
        "from imblearn.pipeline import Pipeline\n",
        "from imblearn.metrics import classification_report_imbalanced"
      ],
      "execution_count": null,
      "outputs": [
        {
          "output_type": "stream",
          "text": [
            "/usr/local/lib/python3.7/dist-packages/sklearn/utils/deprecation.py:144: FutureWarning: The sklearn.metrics.classification module is  deprecated in version 0.22 and will be removed in version 0.24. The corresponding classes / functions should instead be imported from sklearn.metrics. Anything that cannot be imported from sklearn.metrics is now part of the private API.\n",
            "  warnings.warn(message, FutureWarning)\n"
          ],
          "name": "stderr"
        }
      ]
    },
    {
      "cell_type": "markdown",
      "metadata": {
        "id": "NQ4gVn3TuOSk"
      },
      "source": [
        "# Create the training and testing sets"
      ]
    },
    {
      "cell_type": "code",
      "metadata": {
        "colab": {
          "base_uri": "https://localhost:8080/"
        },
        "id": "8NfJDFtkuOSk",
        "outputId": "94de6afb-5445-4286-fd3f-40a86bf9e081"
      },
      "source": [
        "X_train, X_test, y_train, y_test = train_test_split(X, y, test_size=.3, random_state=0)\n",
        "X_train.shape,X_test.shape"
      ],
      "execution_count": null,
      "outputs": [
        {
          "output_type": "execute_result",
          "data": {
            "text/plain": [
              "((199364, 30), (85443, 30))"
            ]
          },
          "metadata": {
            "tags": []
          },
          "execution_count": 23
        }
      ]
    },
    {
      "cell_type": "markdown",
      "metadata": {
        "id": "YO3p4sNEuOSl"
      },
      "source": [
        "# Define the resampling method"
      ]
    },
    {
      "cell_type": "code",
      "metadata": {
        "id": "fWGunA7kuOSm"
      },
      "source": [
        "undersam = RandomUnderSampler(random_state=0)\n",
        "oversam = RandomOverSampler(random_state=0)\n",
        "smote = SMOTE(random_state=0)\n",
        "borderlinesmote = BorderlineSMOTE(kind='borderline-2',random_state=0)"
      ],
      "execution_count": null,
      "outputs": []
    },
    {
      "cell_type": "markdown",
      "metadata": {
        "id": "Cd9ZOtmAuOSn"
      },
      "source": [
        "# resample the training data"
      ]
    },
    {
      "cell_type": "code",
      "metadata": {
        "colab": {
          "base_uri": "https://localhost:8080/"
        },
        "id": "4s4uZ_HSuOSn",
        "outputId": "4f08f3cf-5371-4407-ab8e-46713ee4d6cc"
      },
      "source": [
        "X_undersam, y_undersam = undersam.fit_sample(X_train,y_train)\n",
        "X_oversam, y_oversam = oversam.fit_sample(X_train,y_train)\n",
        "X_smote, y_smote = smote.fit_sample(X_train,y_train)\n",
        "X_borderlinesmote, y_borderlinesmote = borderlinesmote.fit_sample(X_train,y_train)\n"
      ],
      "execution_count": null,
      "outputs": [
        {
          "output_type": "stream",
          "text": [
            "/usr/local/lib/python3.7/dist-packages/sklearn/utils/deprecation.py:87: FutureWarning: Function safe_indexing is deprecated; safe_indexing is deprecated in version 0.22 and will be removed in version 0.24.\n",
            "  warnings.warn(msg, category=FutureWarning)\n",
            "/usr/local/lib/python3.7/dist-packages/sklearn/utils/validation.py:760: DataConversionWarning: A column-vector y was passed when a 1d array was expected. Please change the shape of y to (n_samples, ), for example using ravel().\n",
            "  y = column_or_1d(y, warn=True)\n",
            "/usr/local/lib/python3.7/dist-packages/sklearn/utils/deprecation.py:87: FutureWarning: Function safe_indexing is deprecated; safe_indexing is deprecated in version 0.22 and will be removed in version 0.24.\n",
            "  warnings.warn(msg, category=FutureWarning)\n",
            "/usr/local/lib/python3.7/dist-packages/sklearn/utils/validation.py:760: DataConversionWarning: A column-vector y was passed when a 1d array was expected. Please change the shape of y to (n_samples, ), for example using ravel().\n",
            "  y = column_or_1d(y, warn=True)\n",
            "/usr/local/lib/python3.7/dist-packages/sklearn/utils/deprecation.py:87: FutureWarning: Function safe_indexing is deprecated; safe_indexing is deprecated in version 0.22 and will be removed in version 0.24.\n",
            "  warnings.warn(msg, category=FutureWarning)\n",
            "/usr/local/lib/python3.7/dist-packages/sklearn/utils/validation.py:760: DataConversionWarning: A column-vector y was passed when a 1d array was expected. Please change the shape of y to (n_samples, ), for example using ravel().\n",
            "  y = column_or_1d(y, warn=True)\n",
            "/usr/local/lib/python3.7/dist-packages/sklearn/utils/deprecation.py:87: FutureWarning: Function safe_indexing is deprecated; safe_indexing is deprecated in version 0.22 and will be removed in version 0.24.\n",
            "  warnings.warn(msg, category=FutureWarning)\n",
            "/usr/local/lib/python3.7/dist-packages/sklearn/utils/deprecation.py:87: FutureWarning: Function safe_indexing is deprecated; safe_indexing is deprecated in version 0.22 and will be removed in version 0.24.\n",
            "  warnings.warn(msg, category=FutureWarning)\n",
            "/usr/local/lib/python3.7/dist-packages/sklearn/utils/deprecation.py:87: FutureWarning: Function safe_indexing is deprecated; safe_indexing is deprecated in version 0.22 and will be removed in version 0.24.\n",
            "  warnings.warn(msg, category=FutureWarning)\n"
          ],
          "name": "stderr"
        }
      ]
    },
    {
      "cell_type": "markdown",
      "metadata": {
        "id": "zUjgSEvwuOSo"
      },
      "source": [
        "# Module 3: Logistic Regression\n"
      ]
    },
    {
      "cell_type": "code",
      "metadata": {
        "colab": {
          "base_uri": "https://localhost:8080/"
        },
        "id": "m8iZGJ98uOSp",
        "outputId": "312c5ccc-b102-497b-bb31-17e40fbd8cec"
      },
      "source": [
        "from sklearn.model_selection import train_test_split\n",
        "from sklearn.linear_model import LogisticRegression\n",
        "x = np.array(df.iloc[:, df.columns != 'Class'])\n",
        "y = np.array(df.iloc[:, df.columns == 'Class'])\n",
        "\n",
        "\n",
        "# Create the training and testing sets\n",
        "X_train, X_test, y_train, y_test = train_test_split(X, y, test_size=.3, random_state=0)\n",
        "\n",
        "# Fit a logistic regression model to our data\n",
        "model = LogisticRegression()\n",
        "model.fit(X_train, y_train)\n",
        "\n",
        "# Obtain model predictions\n",
        "y_predicted = model.predict(X_test)"
      ],
      "execution_count": null,
      "outputs": [
        {
          "output_type": "stream",
          "text": [
            "/usr/local/lib/python3.7/dist-packages/sklearn/utils/validation.py:760: DataConversionWarning: A column-vector y was passed when a 1d array was expected. Please change the shape of y to (n_samples, ), for example using ravel().\n",
            "  y = column_or_1d(y, warn=True)\n",
            "/usr/local/lib/python3.7/dist-packages/sklearn/linear_model/_logistic.py:940: ConvergenceWarning: lbfgs failed to converge (status=1):\n",
            "STOP: TOTAL NO. of ITERATIONS REACHED LIMIT.\n",
            "\n",
            "Increase the number of iterations (max_iter) or scale the data as shown in:\n",
            "    https://scikit-learn.org/stable/modules/preprocessing.html\n",
            "Please also refer to the documentation for alternative solver options:\n",
            "    https://scikit-learn.org/stable/modules/linear_model.html#logistic-regression\n",
            "  extra_warning_msg=_LOGISTIC_SOLVER_CONVERGENCE_MSG)\n"
          ],
          "name": "stderr"
        }
      ]
    },
    {
      "cell_type": "code",
      "metadata": {
        "colab": {
          "base_uri": "https://localhost:8080/",
          "height": 535
        },
        "id": "oVNaLau-uOSq",
        "outputId": "36473463-ec61-4580-a947-1a60a4577ef3"
      },
      "source": [
        "from sklearn.metrics import roc_curve,roc_auc_score, precision_recall_curve, average_precision_score\n",
        "from sklearn.metrics import classification_report\n",
        "from sklearn.metrics import confusion_matrix\n",
        "from sklearn.metrics import accuracy_score\n",
        "from sklearn.metrics import precision_score\n",
        "cnf_matrix = confusion_matrix(y_true = y_test, y_pred = y_predicted)\n",
        "labels = ['Non-fraud', 'Fraud']\n",
        "sns.heatmap(pd.DataFrame(cnf_matrix),xticklabels = labels, yticklabels = labels, annot=True, cmap=\"Reds\", fmt='g')\n",
        "plt.ylabel('Actual Label',size = 15)\n",
        "plt.xlabel('Predicted Label',size = 15)\n",
        "plt.title(\"Confusion Matrix Plotting for Logistic Regression model\", size = 20)\n",
        "\n",
        "# Create true and false positive rates\n",
        "false_positive_rate, true_positive_rate, threshold = roc_curve(y_test, y_predicted)\n",
        "\n",
        "# Calculate Area Under the Receiver Operating Characteristic Curve \n",
        "probs = model.predict_proba(X_test)\n",
        "roc_auc = roc_auc_score(y_test, probs[:, 1])\n",
        "print('ROC AUC Score:',roc_auc)\n",
        "\n",
        "# Obtain precision and recall \n",
        "precision, recall, thresholds = precision_recall_curve(y_test, y_predicted)\n",
        "\n",
        "# Calculate average precision \n",
        "average_precision = average_precision_score(y_test, y_predicted)\n",
        "\n",
        "# Define a roc_curve function\n",
        "def plot_roc_curve(false_positive_rate,true_positive_rate,roc_auc):\n",
        "    plt.plot(false_positive_rate, true_positive_rate, linewidth=5, label='AUC = %0.3f'% roc_auc)\n",
        "    plt.plot([0,1],[0,1], linewidth=5)\n",
        "    plt.xlim([-0.01, 1])\n",
        "    plt.ylim([0, 1.01])\n",
        "    plt.legend(loc='upper right')\n",
        "    plt.title('Receiver operating characteristic curve (ROC)')\n",
        "    plt.ylabel('True Positive Rate')\n",
        "    plt.xlabel('False Positive Rate')\n",
        "    plt.show()\n",
        "\n",
        "# Define a precision_recall_curve function\n",
        "def plot_pr_curve(recall, precision, average_precision):\n",
        "    plt.step(recall, precision, color='b', alpha=0.2, where='post')\n",
        "    plt.fill_between(recall, precision, step='post', alpha=0.2, color='b')\n",
        "    plt.xlabel('Recall')\n",
        "    plt.ylabel('Precision')\n",
        "    plt.ylim([0.0, 1.05])\n",
        "    plt.xlim([0.0, 1.0])\n",
        "    plt.title('2-class Precision-Recall curve: AP={0:0.2f}'.format(average_precision))\n",
        "    plt.show()\n",
        "    \n",
        "# Print the classifcation report and confusion matrix\n",
        "print('Classification report:\\n', classification_report(y_test, y_predicted))\n",
        "#print('Confusion matrix:\\n',confusion_matrix(y_true = y_test, y_pred = y_predicted))\n",
        "print('accuracy :\\n',accuracy_score(y_test,y_predicted))\n"
      ],
      "execution_count": null,
      "outputs": [
        {
          "output_type": "stream",
          "text": [
            "ROC AUC Score: 0.9693561724070607\n",
            "Classification report:\n",
            "               precision    recall  f1-score   support\n",
            "\n",
            "           0       1.00      1.00      1.00     85296\n",
            "           1       0.88      0.62      0.73       147\n",
            "\n",
            "    accuracy                           1.00     85443\n",
            "   macro avg       0.94      0.81      0.86     85443\n",
            "weighted avg       1.00      1.00      1.00     85443\n",
            "\n",
            "accuracy :\n",
            " 0.999204147794436\n"
          ],
          "name": "stdout"
        },
        {
          "output_type": "display_data",
          "data": {
            "image/png": "[encoded data removed]",
            "text/plain": [
              "<Figure size 432x288 with 2 Axes>"
            ]
          },
          "metadata": {
            "tags": [],
            "needs_background": "light"
          }
        }
      ]
    },
    {
      "cell_type": "code",
      "metadata": {
        "colab": {
          "base_uri": "https://localhost:8080/",
          "height": 573
        },
        "id": "Q4wVYZFnGX7c",
        "outputId": "c41d0949-5645-493b-87b2-fa3061a730ff"
      },
      "source": [
        "# Plot the roc curve \n",
        "plot_roc_curve(false_positive_rate,true_positive_rate,roc_auc)\n",
        "\n",
        "# Plot recall precision curve\n",
        "plot_pr_curve(recall, precision, average_precision)\n"
      ],
      "execution_count": null,
      "outputs": [
        {
          "output_type": "display_data",
          "data": {
            "image/png": "[encoded data removed]",
            "text/plain": [
              "<Figure size 432x288 with 1 Axes>"
            ]
          },
          "metadata": {
            "tags": [],
            "needs_background": "light"
          }
        },
        {
          "output_type": "display_data",
          "data": {
            "image/png": "[encoded data removed]",
            "text/plain": [
              "<Figure size 432x288 with 1 Axes>"
            ]
          },
          "metadata": {
            "tags": [],
            "needs_background": "light"
          }
        }
      ]
    },
    {
      "cell_type": "code",
      "metadata": {
        "colab": {
          "base_uri": "https://localhost:8080/",
          "height": 835
        },
        "id": "tFAUwoZdJjbu",
        "outputId": "0d75afb2-bbf0-4d7a-9b51-2c1f1594944c"
      },
      "source": [
        "from sklearn.model_selection import train_test_split\n",
        "from sklearn.linear_model import LogisticRegression\n",
        "from imblearn.under_sampling import RandomUnderSampler\n",
        "from imblearn.over_sampling import RandomOverSampler\n",
        "from imblearn.over_sampling import SMOTE\n",
        "from imblearn.over_sampling import BorderlineSMOTE\n",
        "\n",
        "# Create the training and testing sets\n",
        "X_train, X_test, y_train, y_test = train_test_split(X, y, test_size=.3, random_state=0)\n",
        "\n",
        "# Resample your training data\n",
        "rus = RandomUnderSampler()\n",
        "ros = RandomOverSampler()\n",
        "smote = SMOTE(random_state=5)\n",
        "blsmote = BorderlineSMOTE(kind='borderline-2',random_state=5)\n",
        "\n",
        "X_train_rus, y_train_rus = rus.fit_sample(X_train,y_train)\n",
        "X_train_ros, y_train_ros = ros.fit_sample(X_train,y_train)\n",
        "X_train_smote, y_train_smote = smote.fit_sample(X_train,y_train)\n",
        "X_train_blsmote, y_train_blsmote = blsmote.fit_sample(X_train,y_train)\n",
        "\n",
        "print(\"Transaction Number x_train dataset: \", X_train.shape)\n",
        "print(\"Transaction Number y_train dataset: \", y_train.shape)\n",
        "print(\"Transaction Number x_test dataset: \", X_test.shape)\n",
        "print(\"Transaction Number y_test dataset: \", y_test.shape)\n",
        "\n",
        "print(\"Before OverSampling, counts of label '1': {}\".format(sum(y_train==1)))\n",
        "print(\"Before OverSampling, counts of label '0': {} \\n\".format(sum(y_train==0)))\n",
        "#ROS\n",
        "print('After OverSampling, the shape of train_x: {}'.format(X_train_ros.shape))\n",
        "print('After OverSampling, the shape of train_y: {} \\n'.format(y_train_ros.shape))\n",
        "print(\"After OverSampling, counts of label '1', %: {}\".format(sum(y_train_ros==1)/len(y_train_ros)*100.0,2))\n",
        "print(\"After OverSampling, counts of label '0', %: {}\".format(sum(y_train_ros==0)/len(y_train_ros)*100.0,2))\n",
        "sns.countplot(x=y_train_ros, data=df, palette='CMRmap')\n",
        "\n"
      ],
      "execution_count": null,
      "outputs": [
        {
          "output_type": "stream",
          "text": [
            "/usr/local/lib/python3.7/dist-packages/sklearn/utils/deprecation.py:87: FutureWarning: Function safe_indexing is deprecated; safe_indexing is deprecated in version 0.22 and will be removed in version 0.24.\n",
            "  warnings.warn(msg, category=FutureWarning)\n",
            "/usr/local/lib/python3.7/dist-packages/sklearn/utils/validation.py:760: DataConversionWarning: A column-vector y was passed when a 1d array was expected. Please change the shape of y to (n_samples, ), for example using ravel().\n",
            "  y = column_or_1d(y, warn=True)\n",
            "/usr/local/lib/python3.7/dist-packages/sklearn/utils/deprecation.py:87: FutureWarning: Function safe_indexing is deprecated; safe_indexing is deprecated in version 0.22 and will be removed in version 0.24.\n",
            "  warnings.warn(msg, category=FutureWarning)\n",
            "/usr/local/lib/python3.7/dist-packages/sklearn/utils/validation.py:760: DataConversionWarning: A column-vector y was passed when a 1d array was expected. Please change the shape of y to (n_samples, ), for example using ravel().\n",
            "  y = column_or_1d(y, warn=True)\n",
            "/usr/local/lib/python3.7/dist-packages/sklearn/utils/deprecation.py:87: FutureWarning: Function safe_indexing is deprecated; safe_indexing is deprecated in version 0.22 and will be removed in version 0.24.\n",
            "  warnings.warn(msg, category=FutureWarning)\n",
            "/usr/local/lib/python3.7/dist-packages/sklearn/utils/validation.py:760: DataConversionWarning: A column-vector y was passed when a 1d array was expected. Please change the shape of y to (n_samples, ), for example using ravel().\n",
            "  y = column_or_1d(y, warn=True)\n",
            "/usr/local/lib/python3.7/dist-packages/sklearn/utils/deprecation.py:87: FutureWarning: Function safe_indexing is deprecated; safe_indexing is deprecated in version 0.22 and will be removed in version 0.24.\n",
            "  warnings.warn(msg, category=FutureWarning)\n",
            "/usr/local/lib/python3.7/dist-packages/sklearn/utils/deprecation.py:87: FutureWarning: Function safe_indexing is deprecated; safe_indexing is deprecated in version 0.22 and will be removed in version 0.24.\n",
            "  warnings.warn(msg, category=FutureWarning)\n",
            "/usr/local/lib/python3.7/dist-packages/sklearn/utils/deprecation.py:87: FutureWarning: Function safe_indexing is deprecated; safe_indexing is deprecated in version 0.22 and will be removed in version 0.24.\n",
            "  warnings.warn(msg, category=FutureWarning)\n"
          ],
          "name": "stderr"
        },
        {
          "output_type": "stream",
          "text": [
            "Transaction Number x_train dataset:  (199364, 30)\n",
            "Transaction Number y_train dataset:  (199364, 1)\n",
            "Transaction Number x_test dataset:  (85443, 30)\n",
            "Transaction Number y_test dataset:  (85443, 1)\n",
            "Before OverSampling, counts of label '1': [345]\n",
            "Before OverSampling, counts of label '0': [199019] \n",
            "\n",
            "After OverSampling, the shape of train_x: (398038, 30)\n",
            "After OverSampling, the shape of train_y: (398038,) \n",
            "\n",
            "After OverSampling, counts of label '1', %: 50.0\n",
            "After OverSampling, counts of label '0', %: 50.0\n"
          ],
          "name": "stdout"
        },
        {
          "output_type": "execute_result",
          "data": {
            "text/plain": [
              "<matplotlib.axes._subplots.AxesSubplot at 0x7fb1170b5490>"
            ]
          },
          "metadata": {
            "tags": []
          },
          "execution_count": 29
        },
        {
          "output_type": "display_data",
          "data": {
            "image/png": "[encoded data removed]",
            "text/plain": [
              "<Figure size 432x288 with 1 Axes>"
            ]
          },
          "metadata": {
            "tags": [],
            "needs_background": "light"
          }
        }
      ]
    },
    {
      "cell_type": "markdown",
      "metadata": {
        "id": "TPUyR3c8LxN0"
      },
      "source": [
        "#RUS"
      ]
    },
    {
      "cell_type": "code",
      "metadata": {
        "colab": {
          "base_uri": "https://localhost:8080/"
        },
        "id": "UKq2t5zlQC-O",
        "outputId": "a0995c39-2cb9-450d-d4fe-be5a8bb76d29"
      },
      "source": [
        "\n",
        "print('After Sampling using undersample, the shape of train_x: {}'.format(X_train_rus.shape))\n",
        "print('After Sampling using undersample, the shape of train_y: {} \\n'.format(y_train_rus.shape))\n",
        "print(\"After Sampling using undersample, counts of label '1', %: {}\".format(sum(y_train_rus==1)/len(y_train_rus)*100.0,2))\n",
        "print(\"After Sampling using undersample, counts of label '0', %: {}\".format(sum(y_train_rus==0)/len(y_train_rus)*100.0,2))\n"
      ],
      "execution_count": null,
      "outputs": [
        {
          "output_type": "stream",
          "text": [
            "After Sampling using undersample, the shape of train_x: (690, 30)\n",
            "After Sampling using undersample, the shape of train_y: (690, 1) \n",
            "\n",
            "After Sampling using undersample, counts of label '1', %: [50.]\n",
            "After Sampling using undersample, counts of label '0', %: [50.]\n"
          ],
          "name": "stdout"
        }
      ]
    },
    {
      "cell_type": "markdown",
      "metadata": {
        "id": "aVX7QNWtL12C"
      },
      "source": [
        "#SMOTE"
      ]
    },
    {
      "cell_type": "code",
      "metadata": {
        "colab": {
          "base_uri": "https://localhost:8080/",
          "height": 371
        },
        "id": "NkjUV592PJ-R",
        "outputId": "eb32f4c8-215b-4fbb-8396-c4354aae9bff"
      },
      "source": [
        "\n",
        "print('After OverSampling using smomte, the shape of train_x: {}'.format(X_train_smote.shape))\n",
        "print('After OverSampling using smomte, the shape of train_y: {} \\n'.format(y_train_smote.shape))\n",
        "print(\"After OverSampling using smomte, counts of label '1', %: {}\".format(sum(y_train_smote==1)/len(y_train_smote)*100.0,2))\n",
        "print(\"After OverSampling using smomte, counts of label '0', %: {}\".format(sum(y_train_smote==0)/len(y_train_smote)*100.0,2))\n",
        "sns.countplot(x=y_train_smote, data=df, palette='CMRmap')\n",
        "\n"
      ],
      "execution_count": null,
      "outputs": [
        {
          "output_type": "stream",
          "text": [
            "After OverSampling using smomte, the shape of train_x: (398038, 30)\n",
            "After OverSampling using smomte, the shape of train_y: (398038,) \n",
            "\n",
            "After OverSampling using smomte, counts of label '1', %: 50.0\n",
            "After OverSampling using smomte, counts of label '0', %: 50.0\n"
          ],
          "name": "stdout"
        },
        {
          "output_type": "execute_result",
          "data": {
            "text/plain": [
              "<matplotlib.axes._subplots.AxesSubplot at 0x7fb116da8f90>"
            ]
          },
          "metadata": {
            "tags": []
          },
          "execution_count": 33
        },
        {
          "output_type": "display_data",
          "data": {
            "image/png": "[encoded data removed]",
            "text/plain": [
              "<Figure size 432x288 with 1 Axes>"
            ]
          },
          "metadata": {
            "tags": [],
            "needs_background": "light"
          }
        }
      ]
    },
    {
      "cell_type": "markdown",
      "metadata": {
        "id": "O2aoH1zAuOSs"
      },
      "source": [
        "# Logistic Regression with Resampled Data"
      ]
    },
    {
      "cell_type": "code",
      "metadata": {
        "colab": {
          "base_uri": "https://localhost:8080/"
        },
        "id": "DZC360VFuOSs",
        "outputId": "9b94351d-423e-4da3-a520-8febb5db32db"
      },
      "source": [
        "\n",
        "# Fit a logistic regression model to our data\n",
        "rus_model = LogisticRegression().fit(X_train_rus, y_train_rus)\n",
        "ros_model = LogisticRegression().fit(X_train_ros, y_train_ros)\n",
        "smote_model = LogisticRegression().fit(X_train_smote, y_train_smote)\n",
        "blsmote_model = LogisticRegression().fit(X_train_blsmote, y_train_blsmote)\n",
        "\n",
        "y_rus = rus_model.predict(X_test)\n",
        "y_ros = ros_model.predict(X_test)\n",
        "y_smote = smote_model.predict(X_test)\n",
        "y_blsmote = blsmote_model.predict(X_test)\n",
        "\n",
        "print('')\n",
        "print('Classifcation report:\\n', classification_report(y_test, y_rus))\n",
        "print('Confusion matrix:\\n', confusion_matrix(y_true = y_test, y_pred = y_rus))\n",
        "print('accuracyy :\\n',accuracy_score(y_test,y_rus))\n",
        "\n",
        "print('*'*25)\n",
        "\n",
        "print('Classifcation report:\\n', classification_report(y_test, y_ros))\n",
        "print('Confusion matrix:\\n', confusion_matrix(y_true = y_test, y_pred = y_ros))\n",
        "print('accuracyy :\\n',accuracy_score(y_test,y_ros))\n",
        "\n",
        "print('*'*25)\n",
        "\n",
        "print('Classifcation report:\\n', classification_report(y_test, y_smote))\n",
        "print('Confusion matrix:\\n', confusion_matrix(y_true = y_test, y_pred = y_smote))\n",
        "print('accuracyy :\\n',accuracy_score(y_test,y_smote))\n",
        "print('*'*25)\n",
        "\n",
        "print('Classifcation report:\\n', classification_report(y_test, y_blsmote))\n",
        "print('Confusion matrix:\\n', confusion_matrix(y_true = y_test, y_pred = y_blsmote))\n",
        "print('accuracyy :\\n',accuracy_score(y_test,y_blsmote))\n",
        "print('*'*25)\n"
      ],
      "execution_count": null,
      "outputs": [
        {
          "output_type": "stream",
          "text": [
            "/usr/local/lib/python3.7/dist-packages/sklearn/utils/validation.py:760: DataConversionWarning: A column-vector y was passed when a 1d array was expected. Please change the shape of y to (n_samples, ), for example using ravel().\n",
            "  y = column_or_1d(y, warn=True)\n"
          ],
          "name": "stderr"
        },
        {
          "output_type": "stream",
          "text": [
            "\n",
            "Classifcation report:\n",
            "               precision    recall  f1-score   support\n",
            "\n",
            "           0       1.00      0.97      0.98     85296\n",
            "           1       0.05      0.91      0.09       147\n",
            "\n",
            "    accuracy                           0.97     85443\n",
            "   macro avg       0.52      0.94      0.54     85443\n",
            "weighted avg       1.00      0.97      0.98     85443\n",
            "\n",
            "Confusion matrix:\n",
            " [[82578  2718]\n",
            " [   13   134]]\n",
            "accuracyy :\n",
            " 0.9680371709794834\n",
            "*************************\n",
            "Classifcation report:\n",
            "               precision    recall  f1-score   support\n",
            "\n",
            "           0       1.00      0.98      0.99     85296\n",
            "           1       0.07      0.93      0.12       147\n",
            "\n",
            "    accuracy                           0.98     85443\n",
            "   macro avg       0.53      0.95      0.56     85443\n",
            "weighted avg       1.00      0.98      0.99     85443\n",
            "\n",
            "Confusion matrix:\n",
            " [[83382  1914]\n",
            " [   11   136]]\n",
            "accuracyy :\n",
            " 0.9774703603571971\n",
            "*************************\n",
            "Classifcation report:\n",
            "               precision    recall  f1-score   support\n",
            "\n",
            "           0       1.00      0.98      0.99     85296\n",
            "           1       0.06      0.92      0.11       147\n",
            "\n",
            "    accuracy                           0.97     85443\n",
            "   macro avg       0.53      0.95      0.55     85443\n",
            "weighted avg       1.00      0.97      0.99     85443\n",
            "\n",
            "Confusion matrix:\n",
            " [[83170  2126]\n",
            " [   12   135]]\n",
            "accuracyy :\n",
            " 0.9749774703603572\n",
            "*************************\n",
            "Classifcation report:\n",
            "               precision    recall  f1-score   support\n",
            "\n",
            "           0       1.00      0.98      0.99     85296\n",
            "           1       0.08      0.88      0.14       147\n",
            "\n",
            "    accuracy                           0.98     85443\n",
            "   macro avg       0.54      0.93      0.57     85443\n",
            "weighted avg       1.00      0.98      0.99     85443\n",
            "\n",
            "Confusion matrix:\n",
            " [[83778  1518]\n",
            " [   18   129]]\n",
            "accuracyy :\n",
            " 0.9820231031213792\n",
            "*************************\n"
          ],
          "name": "stdout"
        }
      ]
    },
    {
      "cell_type": "markdown",
      "metadata": {
        "id": "neUGL5zTuOSt"
      },
      "source": [
        "# Module 4: Decision Tree Classifier\n"
      ]
    },
    {
      "cell_type": "code",
      "metadata": {
        "colab": {
          "base_uri": "https://localhost:8080/",
          "height": 561
        },
        "id": "AJiu-lCFuOSu",
        "outputId": "0c232672-0c3d-4eb5-dff0-001d025bc441"
      },
      "source": [
        "# Import the decision tree model from sklearn\n",
        "from sklearn.model_selection import train_test_split\n",
        "from sklearn.tree import DecisionTreeClassifier\n",
        "from sklearn.metrics import classification_report\n",
        "from sklearn.metrics import confusion_matrix\n",
        "\n",
        "# Create the training and testing sets\n",
        "X_train, X_test, y_train, y_test = train_test_split(X, y, test_size=.3, random_state=0)\n",
        "\n",
        "# Fit a logistic regression model to our data\n",
        "model = DecisionTreeClassifier()\n",
        "model.fit(X_train, y_train)\n",
        "\n",
        "# Obtain model predictions\n",
        "y_predicted = model.predict(X_test)\n",
        "\n",
        "# Calculate average precision \n",
        "average_precision = average_precision_score(y_test, y_predicted)\n",
        "\n",
        "# Obtain precision and recall \n",
        "precision, recall, _ = precision_recall_curve(y_test, y_predicted)\n",
        "\n",
        "# Plot the recall precision tradeoff\n",
        "plot_pr_curve(recall, precision, average_precision)\n",
        "\n",
        "# Print the classifcation report and confusion matrix\n",
        "print('Classification report:\\n', classification_report(y_test, y_predicted))\n",
        "print('Confusion matrix:\\n',confusion_matrix(y_true = y_test, y_pred = y_predicted))\n",
        "print('accuracy :\\n',accuracy_score(y_test,y_predicted))\n"
      ],
      "execution_count": null,
      "outputs": [
        {
          "output_type": "display_data",
          "data": {
            "image/png": "[encoded data removed]",
            "text/plain": [
              "<Figure size 432x288 with 1 Axes>"
            ]
          },
          "metadata": {
            "tags": [],
            "needs_background": "light"
          }
        },
        {
          "output_type": "stream",
          "text": [
            "Classification report:\n",
            "               precision    recall  f1-score   support\n",
            "\n",
            "           0       1.00      1.00      1.00     85296\n",
            "           1       0.78      0.76      0.77       147\n",
            "\n",
            "    accuracy                           1.00     85443\n",
            "   macro avg       0.89      0.88      0.88     85443\n",
            "weighted avg       1.00      1.00      1.00     85443\n",
            "\n",
            "Confusion matrix:\n",
            " [[85264    32]\n",
            " [   36   111]]\n",
            "accuracy :\n",
            " 0.999204147794436\n"
          ],
          "name": "stdout"
        }
      ]
    },
    {
      "cell_type": "markdown",
      "metadata": {
        "id": "XexWNfqhO-5H"
      },
      "source": [
        "#Decision Tree with RUS"
      ]
    },
    {
      "cell_type": "code",
      "metadata": {
        "colab": {
          "base_uri": "https://localhost:8080/"
        },
        "id": "KZccaVV3OZVX",
        "outputId": "552b2019-535b-4076-fe43-b93c0e7c6f52"
      },
      "source": [
        "rus_model = DecisionTreeClassifier().fit(X_train_rus, y_train_rus)\n",
        "y_rus = rus_model.predict(X_test)\n",
        "print('')\n",
        "print('Classifcation report:\\n', classification_report(y_test, y_rus))\n",
        "print('Confusion matrix:\\n', confusion_matrix(y_true = y_test, y_pred = y_rus))\n",
        "print('accuracyy :\\n',accuracy_score(y_test,y_rus))\n"
      ],
      "execution_count": null,
      "outputs": [
        {
          "output_type": "stream",
          "text": [
            "\n",
            "Classifcation report:\n",
            "               precision    recall  f1-score   support\n",
            "\n",
            "           0       1.00      0.92      0.96     85296\n",
            "           1       0.02      0.93      0.04       147\n",
            "\n",
            "    accuracy                           0.92     85443\n",
            "   macro avg       0.51      0.93      0.50     85443\n",
            "weighted avg       1.00      0.92      0.96     85443\n",
            "\n",
            "Confusion matrix:\n",
            " [[78518  6778]\n",
            " [   10   137]]\n",
            "accuracyy :\n",
            " 0.92055522395047\n"
          ],
          "name": "stdout"
        }
      ]
    },
    {
      "cell_type": "markdown",
      "metadata": {
        "id": "UKmZ4LsPPLvz"
      },
      "source": [
        "#Decision Tree with ROS"
      ]
    },
    {
      "cell_type": "code",
      "metadata": {
        "colab": {
          "base_uri": "https://localhost:8080/"
        },
        "id": "6H_oFtcLPLLL",
        "outputId": "3b954909-2e8d-4faa-9e42-af111c79e408"
      },
      "source": [
        "ros_model = DecisionTreeClassifier().fit(X_train_ros, y_train_ros)\n",
        "y_ros = ros_model.predict(X_test)\n",
        "print('Classifcation report:\\n', classification_report(y_test, y_ros))\n",
        "print('Confusion matrix:\\n', confusion_matrix(y_true = y_test, y_pred = y_ros))\n",
        "print('accuracyy :\\n',accuracy_score(y_test,y_ros))"
      ],
      "execution_count": null,
      "outputs": [
        {
          "output_type": "stream",
          "text": [
            "Classifcation report:\n",
            "               precision    recall  f1-score   support\n",
            "\n",
            "           0       1.00      1.00      1.00     85296\n",
            "           1       0.81      0.76      0.79       147\n",
            "\n",
            "    accuracy                           1.00     85443\n",
            "   macro avg       0.91      0.88      0.89     85443\n",
            "weighted avg       1.00      1.00      1.00     85443\n",
            "\n",
            "Confusion matrix:\n",
            " [[85270    26]\n",
            " [   35   112]]\n",
            "accuracyy :\n",
            " 0.9992860737567735\n"
          ],
          "name": "stdout"
        }
      ]
    },
    {
      "cell_type": "markdown",
      "metadata": {
        "id": "L1zC3N57Z63Q"
      },
      "source": [
        "#Decision Tree with SMOTE"
      ]
    },
    {
      "cell_type": "code",
      "metadata": {
        "colab": {
          "base_uri": "https://localhost:8080/"
        },
        "id": "LrsuG9PJZdkN",
        "outputId": "f92f8036-47db-47c3-f5a5-39ef7b360207"
      },
      "source": [
        "smote_model = DecisionTreeClassifier().fit(X_train_smote, y_train_smote)\n",
        "y_smote = smote_model.predict(X_test)\n",
        "print('Classifcation report:\\n', classification_report(y_test, y_smote))\n",
        "print('Confusion matrix:\\n', confusion_matrix(y_true = y_test, y_pred = y_smote))\n",
        "print('accuracyy :\\n',accuracy_score(y_test,y_smote))\n"
      ],
      "execution_count": null,
      "outputs": [
        {
          "output_type": "stream",
          "text": [
            "Classifcation report:\n",
            "               precision    recall  f1-score   support\n",
            "\n",
            "           0       1.00      1.00      1.00     85296\n",
            "           1       0.41      0.76      0.53       147\n",
            "\n",
            "    accuracy                           1.00     85443\n",
            "   macro avg       0.71      0.88      0.77     85443\n",
            "weighted avg       1.00      1.00      1.00     85443\n",
            "\n",
            "Confusion matrix:\n",
            " [[85136   160]\n",
            " [   35   112]]\n",
            "accuracyy :\n",
            " 0.9977177767634563\n"
          ],
          "name": "stdout"
        }
      ]
    },
    {
      "cell_type": "markdown",
      "metadata": {
        "id": "2D7QvfrfuOSv"
      },
      "source": [
        "# Decision Tree Classifier with BLSMOTE Data"
      ]
    },
    {
      "cell_type": "code",
      "metadata": {
        "colab": {
          "base_uri": "https://localhost:8080/"
        },
        "id": "0p6LZ-8euOSw",
        "outputId": "74583181-dd15-4a49-9fec-cba736d5ab18"
      },
      "source": [
        "# Import the pipeline module we need for this from imblearn\n",
        "from imblearn.pipeline import Pipeline \n",
        "from imblearn.over_sampling import BorderlineSMOTE\n",
        "\n",
        "# Define which resampling method and which ML model to use in the pipeline\n",
        "resampling = BorderlineSMOTE(kind='borderline-2',random_state=0) # instead SMOTE(kind='borderline2') \n",
        "model = DecisionTreeClassifier() \n",
        "\n",
        "# Define the pipeline, tell it to combine SMOTE with the Logistic Regression model\n",
        "pipeline = Pipeline([('SMOTE', resampling), ('Decision Tree Classifier', model)])\n",
        "\n",
        "# Fit your pipeline onto your training set and obtain predictions by fitting the model onto the test data \n",
        "pipeline.fit(X_train,y_train) \n",
        "y_predicted = pipeline.predict(X_test)\n",
        "\n",
        "# Obtain the results from the classification report and confusion matrix \n",
        "print('Classifcation report:\\n', classification_report(y_test, y_predicted))\n",
        "print('Confusion matrix:\\n',  confusion_matrix(y_true = y_test, y_pred = y_predicted))\n",
        "print('accuracyy :\\n',accuracy_score(y_test,y_predicted))\n"
      ],
      "execution_count": null,
      "outputs": [
        {
          "output_type": "stream",
          "text": [
            "/usr/local/lib/python3.7/dist-packages/sklearn/utils/validation.py:760: DataConversionWarning: A column-vector y was passed when a 1d array was expected. Please change the shape of y to (n_samples, ), for example using ravel().\n",
            "  y = column_or_1d(y, warn=True)\n",
            "/usr/local/lib/python3.7/dist-packages/sklearn/utils/deprecation.py:87: FutureWarning: Function safe_indexing is deprecated; safe_indexing is deprecated in version 0.22 and will be removed in version 0.24.\n",
            "  warnings.warn(msg, category=FutureWarning)\n",
            "/usr/local/lib/python3.7/dist-packages/sklearn/utils/deprecation.py:87: FutureWarning: Function safe_indexing is deprecated; safe_indexing is deprecated in version 0.22 and will be removed in version 0.24.\n",
            "  warnings.warn(msg, category=FutureWarning)\n",
            "/usr/local/lib/python3.7/dist-packages/sklearn/utils/deprecation.py:87: FutureWarning: Function safe_indexing is deprecated; safe_indexing is deprecated in version 0.22 and will be removed in version 0.24.\n",
            "  warnings.warn(msg, category=FutureWarning)\n"
          ],
          "name": "stderr"
        },
        {
          "output_type": "stream",
          "text": [
            "Classifcation report:\n",
            "               precision    recall  f1-score   support\n",
            "\n",
            "           0       1.00      1.00      1.00     85296\n",
            "           1       0.59      0.71      0.64       147\n",
            "\n",
            "    accuracy                           1.00     85443\n",
            "   macro avg       0.80      0.85      0.82     85443\n",
            "weighted avg       1.00      1.00      1.00     85443\n",
            "\n",
            "Confusion matrix:\n",
            " [[85224    72]\n",
            " [   43   104]]\n",
            "accuracyy :\n",
            " 0.9986540734758845\n"
          ],
          "name": "stdout"
        }
      ]
    },
    {
      "cell_type": "markdown",
      "metadata": {
        "id": "F9Qj3cONuOSx"
      },
      "source": [
        "# Module 5: Random Forest Classifier"
      ]
    },
    {
      "cell_type": "code",
      "metadata": {
        "colab": {
          "base_uri": "https://localhost:8080/",
          "height": 652
        },
        "id": "cnaIv2LCuOSx",
        "outputId": "76886733-421c-4298-f354-764a3ae517c9"
      },
      "source": [
        "# Import the Random Forest Classifier model from sklearn\n",
        "from sklearn.model_selection import train_test_split\n",
        "from sklearn.ensemble import RandomForestClassifier\n",
        "from sklearn.metrics import accuracy_score,roc_auc_score\n",
        "from sklearn.metrics import classification_report\n",
        "from sklearn.metrics import confusion_matrix\n",
        "\n",
        "# Create the training and testing sets\n",
        "X_train, X_test, y_train, y_test = train_test_split(X, y, test_size=.3, random_state=0)\n",
        "\n",
        "# Fit a logistic regression model to our data\n",
        "model = RandomForestClassifier(random_state=5)\n",
        "model.fit(X_train, y_train)\n",
        "\n",
        "# Obtain model predictions\n",
        "y_predicted = model.predict(X_test)\n",
        "\n",
        "# Predict probabilities\n",
        "probs = model.predict_proba(X_test)\n",
        "\n",
        "# Calculate average precision \n",
        "average_precision = average_precision_score(y_test, y_predicted)\n",
        "\n",
        "# Obtain precision and recall \n",
        "precision, recall, _ = precision_recall_curve(y_test, y_predicted)\n",
        "\n",
        "# Plot the recall precision tradeoff\n",
        "plot_pr_curve(recall, precision, average_precision)\n",
        "\n",
        "# Print the classifcation report and confusion matrix\n",
        "print(accuracy_score(y_test, y_predicted))\n",
        "print(\"AUC ROC score: \", roc_auc_score(y_test, probs[:,1]))\n",
        "\n",
        "print('Classification report:\\n', classification_report(y_test, y_predicted))\n",
        "print('Confusion matrix:\\n',confusion_matrix(y_true = y_test, y_pred = y_predicted))\n",
        "print('accuracyy :\\n',accuracy_score(y_test,y_predicted))\n"
      ],
      "execution_count": null,
      "outputs": [
        {
          "output_type": "stream",
          "text": [
            "/usr/local/lib/python3.7/dist-packages/ipykernel_launcher.py:13: DataConversionWarning: A column-vector y was passed when a 1d array was expected. Please change the shape of y to (n_samples,), for example using ravel().\n",
            "  del sys.path[0]\n"
          ],
          "name": "stderr"
        },
        {
          "output_type": "display_data",
          "data": {
            "image/png": "[encoded data removed]",
            "text/plain": [
              "<Figure size 432x288 with 1 Axes>"
            ]
          },
          "metadata": {
            "tags": [],
            "needs_background": "light"
          }
        },
        {
          "output_type": "stream",
          "text": [
            "0.9995201479348805\n",
            "AUC ROC score:  0.9337809382803957\n",
            "Classification report:\n",
            "               precision    recall  f1-score   support\n",
            "\n",
            "           0       1.00      1.00      1.00     85296\n",
            "           1       0.95      0.76      0.85       147\n",
            "\n",
            "    accuracy                           1.00     85443\n",
            "   macro avg       0.97      0.88      0.92     85443\n",
            "weighted avg       1.00      1.00      1.00     85443\n",
            "\n",
            "Confusion matrix:\n",
            " [[85290     6]\n",
            " [   35   112]]\n",
            "accuracyy :\n",
            " 0.9995201479348805\n"
          ],
          "name": "stdout"
        }
      ]
    },
    {
      "cell_type": "markdown",
      "metadata": {
        "id": "zL2n6JOAb9F1"
      },
      "source": [
        "#Random Forest Classifier with RUS "
      ]
    },
    {
      "cell_type": "code",
      "metadata": {
        "colab": {
          "base_uri": "https://localhost:8080/"
        },
        "id": "xmftYarWb8je",
        "outputId": "3e14a7f0-9386-4752-f5ad-4740828b0a01"
      },
      "source": [
        "rus_model = RandomForestClassifier().fit(X_train_rus, y_train_rus)\n",
        "y_rus = rus_model.predict(X_test)\n",
        "print('')\n",
        "print('Classifcation report:\\n', classification_report(y_test, y_rus))\n",
        "print('Confusion matrix:\\n', confusion_matrix(y_true = y_test, y_pred = y_rus))\n",
        "print('accuracyy :\\n',accuracy_score(y_test,y_rus))\n"
      ],
      "execution_count": null,
      "outputs": [
        {
          "output_type": "stream",
          "text": [
            "/usr/local/lib/python3.7/dist-packages/ipykernel_launcher.py:1: DataConversionWarning: A column-vector y was passed when a 1d array was expected. Please change the shape of y to (n_samples,), for example using ravel().\n",
            "  \"\"\"Entry point for launching an IPython kernel.\n"
          ],
          "name": "stderr"
        },
        {
          "output_type": "stream",
          "text": [
            "\n",
            "Classifcation report:\n",
            "               precision    recall  f1-score   support\n",
            "\n",
            "           0       1.00      0.98      0.99     85296\n",
            "           1       0.07      0.90      0.13       147\n",
            "\n",
            "    accuracy                           0.98     85443\n",
            "   macro avg       0.54      0.94      0.56     85443\n",
            "weighted avg       1.00      0.98      0.99     85443\n",
            "\n",
            "Confusion matrix:\n",
            " [[83604  1692]\n",
            " [   15   132]]\n",
            "accuracyy :\n",
            " 0.980021768898564\n"
          ],
          "name": "stdout"
        }
      ]
    },
    {
      "cell_type": "markdown",
      "metadata": {
        "id": "Spvo3StocS0D"
      },
      "source": [
        "#Random Forest Classifier with ROS"
      ]
    },
    {
      "cell_type": "code",
      "metadata": {
        "colab": {
          "base_uri": "https://localhost:8080/"
        },
        "id": "9UyM98vfcSN1",
        "outputId": "1327fcb3-d16c-4895-e9a6-fd0b5c347506"
      },
      "source": [
        "ros_model = RandomForestClassifier().fit(X_train_ros, y_train_ros)\n",
        "y_ros = ros_model.predict(X_test)\n",
        "print('Classifcation report:\\n', classification_report(y_test, y_ros))\n",
        "print('Confusion matrix:\\n', confusion_matrix(y_true = y_test, y_pred = y_ros))\n",
        "print('accuracyy :\\n',accuracy_score(y_test,y_ros))"
      ],
      "execution_count": null,
      "outputs": [
        {
          "output_type": "stream",
          "text": [
            "Classifcation report:\n",
            "               precision    recall  f1-score   support\n",
            "\n",
            "           0       1.00      1.00      1.00     85296\n",
            "           1       0.94      0.78      0.86       147\n",
            "\n",
            "    accuracy                           1.00     85443\n",
            "   macro avg       0.97      0.89      0.93     85443\n",
            "weighted avg       1.00      1.00      1.00     85443\n",
            "\n",
            "Confusion matrix:\n",
            " [[85289     7]\n",
            " [   32   115]]\n",
            "accuracyy :\n",
            " 0.9995435553526912\n"
          ],
          "name": "stdout"
        }
      ]
    },
    {
      "cell_type": "markdown",
      "metadata": {
        "id": "LkRItWx8cZ_0"
      },
      "source": [
        "#Random Forest Classifier with SMOTE "
      ]
    },
    {
      "cell_type": "code",
      "metadata": {
        "colab": {
          "base_uri": "https://localhost:8080/"
        },
        "id": "LupaPsSgc_73",
        "outputId": "5bce81a5-65b8-47b3-ba6f-24a2cd61abbf"
      },
      "source": [
        "smote_model = RandomForestClassifier().fit(X_train_smote, y_train_smote)\n",
        "y_smote = smote_model.predict(X_test)\n",
        "print('Classifcation report:\\n', classification_report(y_test, y_smote))\n",
        "print('Confusion matrix:\\n', confusion_matrix(y_true = y_test, y_pred = y_smote))\n",
        "print('accuracyy :\\n',accuracy_score(y_test,y_smote))\n"
      ],
      "execution_count": null,
      "outputs": [
        {
          "output_type": "stream",
          "text": [
            "Classifcation report:\n",
            "               precision    recall  f1-score   support\n",
            "\n",
            "           0       1.00      1.00      1.00     85296\n",
            "           1       0.93      0.82      0.87       147\n",
            "\n",
            "    accuracy                           1.00     85443\n",
            "   macro avg       0.96      0.91      0.93     85443\n",
            "weighted avg       1.00      1.00      1.00     85443\n",
            "\n",
            "Confusion matrix:\n",
            " [[85287     9]\n",
            " [   27   120]]\n",
            "accuracyy :\n",
            " 0.9995786664794073\n"
          ],
          "name": "stdout"
        }
      ]
    },
    {
      "cell_type": "markdown",
      "metadata": {
        "id": "VvK82N-XuOSy"
      },
      "source": [
        "# Random Forest Classifier with BLSMOTE Data Catch Fraud"
      ]
    },
    {
      "cell_type": "code",
      "metadata": {
        "colab": {
          "base_uri": "https://localhost:8080/"
        },
        "id": "gRkBQEW7uOSz",
        "outputId": "bd45cf38-5a77-4181-eb0a-026ecd7327f6"
      },
      "source": [
        "# Import the pipeline module we need for this from imblearn\n",
        "from imblearn.pipeline import Pipeline \n",
        "from imblearn.over_sampling import BorderlineSMOTE\n",
        "\n",
        "# Define which resampling method and which ML model to use in the pipeline\n",
        "\n",
        "resampling = BorderlineSMOTE(kind='borderline-2',random_state=0) # instead SMOTE(kind='borderline2') \n",
        "model = RandomForestClassifier() \n",
        "\n",
        "# Define the pipeline, tell it to combine SMOTE with the Logistic Regression model\n",
        "pipeline = Pipeline([('SMOTE', resampling), ('Random Forest Classifier', model)])\n",
        "\n",
        "# Fit your pipeline onto your training set and obtain predictions by fitting the model onto the test data \n",
        "pipeline.fit(X_train, y_train) \n",
        "y_predicted = pipeline.predict(X_test)\n",
        "\n",
        "# Predict probabilities\n",
        "probs = model.predict_proba(X_test)\n",
        "\n",
        "print(accuracy_score(y_test, y_predicted))\n",
        "print(\"AUC ROC score: \", roc_auc_score(y_test, probs[:,1]))\n",
        "# Obtain the results from the classification report and confusion matrix \n",
        "\n",
        "print('Classifcation report:\\n', classification_report(y_test, y_predicted))\n",
        "print('Confusion matrix:\\n',  confusion_matrix(y_true = y_test, y_pred = y_predicted))\n",
        "print('accuracy :\\n',accuracy_score(y_test,y_predicted))"
      ],
      "execution_count": null,
      "outputs": [
        {
          "output_type": "stream",
          "text": [
            "/usr/local/lib/python3.7/dist-packages/sklearn/utils/validation.py:760: DataConversionWarning: A column-vector y was passed when a 1d array was expected. Please change the shape of y to (n_samples, ), for example using ravel().\n",
            "  y = column_or_1d(y, warn=True)\n",
            "/usr/local/lib/python3.7/dist-packages/sklearn/utils/deprecation.py:87: FutureWarning: Function safe_indexing is deprecated; safe_indexing is deprecated in version 0.22 and will be removed in version 0.24.\n",
            "  warnings.warn(msg, category=FutureWarning)\n",
            "/usr/local/lib/python3.7/dist-packages/sklearn/utils/deprecation.py:87: FutureWarning: Function safe_indexing is deprecated; safe_indexing is deprecated in version 0.22 and will be removed in version 0.24.\n",
            "  warnings.warn(msg, category=FutureWarning)\n",
            "/usr/local/lib/python3.7/dist-packages/sklearn/utils/deprecation.py:87: FutureWarning: Function safe_indexing is deprecated; safe_indexing is deprecated in version 0.22 and will be removed in version 0.24.\n",
            "  warnings.warn(msg, category=FutureWarning)\n"
          ],
          "name": "stderr"
        },
        {
          "output_type": "stream",
          "text": [
            "0.9994850368081645\n",
            "AUC ROC score:  0.9556218074361614\n",
            "Classifcation report:\n",
            "               precision    recall  f1-score   support\n",
            "\n",
            "           0       1.00      1.00      1.00     85296\n",
            "           1       0.90      0.79      0.84       147\n",
            "\n",
            "    accuracy                           1.00     85443\n",
            "   macro avg       0.95      0.89      0.92     85443\n",
            "weighted avg       1.00      1.00      1.00     85443\n",
            "\n",
            "Confusion matrix:\n",
            " [[85283    13]\n",
            " [   31   116]]\n",
            "accuracy :\n",
            " 0.9994850368081645\n"
          ],
          "name": "stdout"
        }
      ]
    },
    {
      "cell_type": "markdown",
      "metadata": {
        "id": "vwX1lO2Pi5OG"
      },
      "source": [
        "# Module 7: KMeans Clustering\n",
        "\n"
      ]
    },
    {
      "cell_type": "markdown",
      "metadata": {
        "id": "KbivONvojErI"
      },
      "source": [
        "## Prepare unlabeled train and test dataset"
      ]
    },
    {
      "cell_type": "code",
      "metadata": {
        "id": "euPQKW2ziDlJ"
      },
      "source": [
        "from sklearn.model_selection import train_test_split\n",
        "from sklearn.preprocessing import normalize\n",
        "\n",
        "# Split the data into train set and test set\n",
        "train,test = train_test_split(df,test_size=0.3,random_state=0)\n",
        "\n",
        "# Get the arrays of features and labels in train dataset\n",
        "features_train = train.drop(['Time','Class'],axis=1)\n",
        "features_train = features_train.values\n",
        "labels_train = pd.DataFrame(train[['Class']])\n",
        "labels_train = labels_train.values\n",
        "\n",
        "# Get the arrays of features and labels in test dataset\n",
        "features_test = test.drop(['Time','Class'],axis=1)\n",
        "features_test = features_test.values\n",
        "labels_test = pd.DataFrame(test[[\"Class\"]])\n",
        "labels_test = labels_test.values\n",
        "\n",
        "# Normalize the features in both train and test dataset\n",
        "features_train = normalize(features_train)\n",
        "features_test = normalize(features_test)"
      ],
      "execution_count": null,
      "outputs": []
    },
    {
      "cell_type": "markdown",
      "metadata": {
        "id": "bxl4UpPXjVUz"
      },
      "source": [
        "# Build the model"
      ]
    },
    {
      "cell_type": "code",
      "metadata": {
        "id": "NwoH4R--iDSf",
        "colab": {
          "base_uri": "https://localhost:8080/"
        },
        "outputId": "0f3859b7-7321-4434-e6e5-e0cfb29fbc20"
      },
      "source": [
        "from sklearn.cluster import KMeans\n",
        "from sklearn.metrics import confusion_matrix\n",
        "\n",
        "model = KMeans(n_clusters=2,random_state=0)\n",
        "model.fit(features_train)\n",
        "labels_train_predicted = model.predict(features_train)\n",
        "labels_test_predicted = model.predict(features_test)\n",
        "\n",
        "# Decide if model predicted label is aligned with true label \n",
        "true_negative,false_positive,false_negative,true_positive = confusion_matrix(labels_train,labels_train_predicted).ravel()\n",
        "reassignflag = true_negative + true_positive < false_positive + false_negative\n",
        "print(reassignflag)\n",
        "\n",
        "\n",
        "labels_test_predicted = 1- labels_test_predicted"
      ],
      "execution_count": null,
      "outputs": [
        {
          "output_type": "stream",
          "text": [
            "True\n"
          ],
          "name": "stdout"
        }
      ]
    },
    {
      "cell_type": "markdown",
      "metadata": {
        "id": "aOUn3by4jg2I"
      },
      "source": [
        "# Model Evaluation"
      ]
    },
    {
      "cell_type": "code",
      "metadata": {
        "id": "T2rt1BQ4jgbI",
        "colab": {
          "base_uri": "https://localhost:8080/"
        },
        "outputId": "0980bbaf-f98f-4df8-89d7-b56fbc79b804"
      },
      "source": [
        "from sklearn.metrics import confusion_matrix, precision_score, recall_score, accuracy_score,f1_score\n",
        "# Calculating confusion matrix for kmeans\n",
        "print('Confusion Matrix:\\n',confusion_matrix(labels_test,labels_test_predicted))\n",
        "\n",
        "# Scoring kmeans\n",
        "\n",
        "print('kmeans_precison_score:', precision_score(labels_test,labels_test_predicted))\n",
        "print('kmeans_recall_score:', recall_score(labels_test,labels_test_predicted))\n",
        "print('kmeans_accuracy_score:', accuracy_score(labels_test,labels_test_predicted))\n",
        "print('kmeans_f1_score:',f1_score(labels_test,labels_test_predicted))"
      ],
      "execution_count": null,
      "outputs": [
        {
          "output_type": "stream",
          "text": [
            "Confusion Matrix:\n",
            " [[67803 17493]\n",
            " [   56    91]]\n",
            "kmeans_precison_score: 0.0051751592356687895\n",
            "kmeans_recall_score: 0.6190476190476191\n",
            "kmeans_accuracy_score: 0.7946116124199759\n",
            "kmeans_f1_score: 0.010264508487958941\n"
          ],
          "name": "stdout"
        }
      ]
    },
    {
      "cell_type": "markdown",
      "metadata": {
        "id": "Ghz54imaq2rW"
      },
      "source": [
        "#K-Mean with RUS "
      ]
    },
    {
      "cell_type": "code",
      "metadata": {
        "colab": {
          "base_uri": "https://localhost:8080/"
        },
        "id": "j640l4giq2NF",
        "outputId": "4d84e70d-d47b-42a6-bee9-df69d7bf9064"
      },
      "source": [
        "rus_model = KMeans(n_clusters=2).fit(X_train_rus, y_train_rus)\n",
        "y_rus = rus_model.predict(X_test)\n",
        "print('')\n",
        "print('Classifcation report:\\n', classification_report(y_test, y_rus))\n",
        "print('Confusion matrix:\\n', confusion_matrix(y_true = y_test, y_pred = y_rus))\n",
        "print('accuracyy :\\n',accuracy_score(y_test,y_rus))\n"
      ],
      "execution_count": null,
      "outputs": [
        {
          "output_type": "stream",
          "text": [
            "\n",
            "Classifcation report:\n",
            "               precision    recall  f1-score   support\n",
            "\n",
            "           0       1.00      1.00      1.00     85296\n",
            "           1       0.84      0.31      0.46       147\n",
            "\n",
            "    accuracy                           1.00     85443\n",
            "   macro avg       0.92      0.66      0.73     85443\n",
            "weighted avg       1.00      1.00      1.00     85443\n",
            "\n",
            "Confusion matrix:\n",
            " [[85287     9]\n",
            " [  101    46]]\n",
            "accuracyy :\n",
            " 0.9987125920204113\n"
          ],
          "name": "stdout"
        }
      ]
    },
    {
      "cell_type": "markdown",
      "metadata": {
        "id": "RH1gMLZev3oz"
      },
      "source": [
        "#K-Mean with ROS"
      ]
    },
    {
      "cell_type": "code",
      "metadata": {
        "colab": {
          "base_uri": "https://localhost:8080/"
        },
        "id": "RBD9Q9-Pv26R",
        "outputId": "9c9bb480-dc57-49cc-9d90-09434808cf9d"
      },
      "source": [
        "ros_model = KMeans(n_clusters=2).fit(X_train_ros, y_train_ros)\n",
        "y_ros = ros_model.predict(X_test)\n",
        "print('Classifcation report:\\n', classification_report(y_test, y_ros))\n",
        "print('Confusion matrix:\\n', confusion_matrix(y_true = y_test, y_pred = y_ros))\n",
        "print('accuracyy :\\n',accuracy_score(y_test,y_ros))"
      ],
      "execution_count": null,
      "outputs": [
        {
          "output_type": "stream",
          "text": [
            "Classifcation report:\n",
            "               precision    recall  f1-score   support\n",
            "\n",
            "           0       1.00      1.00      1.00     85296\n",
            "           1       0.84      0.31      0.46       147\n",
            "\n",
            "    accuracy                           1.00     85443\n",
            "   macro avg       0.92      0.66      0.73     85443\n",
            "weighted avg       1.00      1.00      1.00     85443\n",
            "\n",
            "Confusion matrix:\n",
            " [[85287     9]\n",
            " [  101    46]]\n",
            "accuracyy :\n",
            " 0.9987125920204113\n"
          ],
          "name": "stdout"
        }
      ]
    },
    {
      "cell_type": "markdown",
      "metadata": {
        "id": "NQPr9zvNv2N3"
      },
      "source": [
        ""
      ]
    },
    {
      "cell_type": "markdown",
      "metadata": {
        "id": "dcqeNA_7wRha"
      },
      "source": [
        "#K-Mean with SMOTE"
      ]
    },
    {
      "cell_type": "code",
      "metadata": {
        "colab": {
          "base_uri": "https://localhost:8080/"
        },
        "id": "dW9jfkX1wXYT",
        "outputId": "7846c9a1-5bd6-42b1-8650-c12fdc07d524"
      },
      "source": [
        "smote_model = KMeans(n_clusters=2).fit(X_train_smote, y_train_smote)\n",
        "y_smote = smote_model.predict(X_test)\n",
        "print('Classifcation report:\\n', classification_report(y_test, y_smote))\n",
        "print('Confusion matrix:\\n', confusion_matrix(y_true = y_test, y_pred = y_smote))\n",
        "print('accuracyy :\\n',accuracy_score(y_test,y_smote))"
      ],
      "execution_count": null,
      "outputs": [
        {
          "output_type": "stream",
          "text": [
            "Classifcation report:\n",
            "               precision    recall  f1-score   support\n",
            "\n",
            "           0       1.00      1.00      1.00     85296\n",
            "           1       0.84      0.31      0.46       147\n",
            "\n",
            "    accuracy                           1.00     85443\n",
            "   macro avg       0.92      0.66      0.73     85443\n",
            "weighted avg       1.00      1.00      1.00     85443\n",
            "\n",
            "Confusion matrix:\n",
            " [[85287     9]\n",
            " [  101    46]]\n",
            "accuracyy :\n",
            " 0.9987125920204113\n"
          ],
          "name": "stdout"
        }
      ]
    },
    {
      "cell_type": "markdown",
      "metadata": {
        "id": "wCsM361Djui2"
      },
      "source": [
        "# Module 8: MiniBatchKMeans Clustering"
      ]
    },
    {
      "cell_type": "code",
      "metadata": {
        "id": "NSo0XBLjjgAS",
        "colab": {
          "base_uri": "https://localhost:8080/"
        },
        "outputId": "6d8c9997-ea36-4698-e747-77e914e532c3"
      },
      "source": [
        "from sklearn.model_selection import train_test_split\n",
        "from sklearn.preprocessing import normalize\n",
        "\n",
        "# Split the data into train set and test set\n",
        "train,test = train_test_split(df,test_size=0.3,random_state=0)\n",
        "\n",
        "# Get the arrays of features and labels in train dataset\n",
        "features_train = train.drop(['Time','Class'],axis=1)\n",
        "features_train = features_train.values\n",
        "labels_train = pd.DataFrame(train[['Class']])\n",
        "labels_train = labels_train.values\n",
        "\n",
        "# Get the arrays of features and labels in test dataset\n",
        "features_test = test.drop(['Time','Class'],axis=1)\n",
        "features_test = features_test.values\n",
        "labels_test = pd.DataFrame(test[[\"Class\"]])\n",
        "labels_test = labels_test.values\n",
        "\n",
        "# Normalize the features in both train and test dataset\n",
        "features_train = normalize(features_train)\n",
        "features_test = normalize(features_test)\n",
        "from sklearn.cluster import MiniBatchKMeans\n",
        "from sklearn.metrics import confusion_matrix\n",
        "\n",
        "model = MiniBatchKMeans(n_clusters=2,random_state=0)\n",
        "model.fit(features_train)\n",
        "labels_train_predicted = model.predict(features_train)\n",
        "labels_test_predicted = model.predict(features_test)\n",
        "\n",
        "# Decide if model predicted label is aligned with true label \n",
        "true_negative,false_positive,false_negative,true_positive = confusion_matrix(labels_train,labels_train_predicted).ravel()\n",
        "reassignflag = true_negative + true_positive < false_positive + false_negative\n",
        "print(reassignflag)\n"
      ],
      "execution_count": null,
      "outputs": [
        {
          "output_type": "stream",
          "text": [
            "False\n"
          ],
          "name": "stdout"
        }
      ]
    },
    {
      "cell_type": "code",
      "metadata": {
        "id": "b93Mnkgrjf7c",
        "colab": {
          "base_uri": "https://localhost:8080/"
        },
        "outputId": "26066513-1176-431d-e424-f9b60a67fbbc"
      },
      "source": [
        "from sklearn.metrics import confusion_matrix, precision_score, recall_score, accuracy_score,f1_score\n",
        "# Calculating confusion matrix for kmeans\n",
        "print('Confusion Matrix:\\n',confusion_matrix(labels_test,labels_test_predicted))\n",
        "\n",
        "# Scoring kmeans\n",
        "\n",
        "print('kmeans_precison_score:', precision_score(labels_test,labels_test_predicted))\n",
        "print('kmeans_recall_score:', recall_score(labels_test,labels_test_predicted))\n",
        "print('kmeans_accuracy_score:', accuracy_score(labels_test,labels_test_predicted))\n",
        "print('kmeans_f1_score:',f1_score(labels_test,labels_test_predicted))\n"
      ],
      "execution_count": null,
      "outputs": [
        {
          "output_type": "stream",
          "text": [
            "Confusion Matrix:\n",
            " [[67837 17459]\n",
            " [   56    91]]\n",
            "kmeans_precison_score: 0.005185185185185185\n",
            "kmeans_recall_score: 0.6190476190476191\n",
            "kmeans_accuracy_score: 0.7950095385227579\n",
            "kmeans_f1_score: 0.01028422896536136\n"
          ],
          "name": "stdout"
        }
      ]
    },
    {
      "cell_type": "markdown",
      "metadata": {
        "id": "fiAb_hi_KpAL"
      },
      "source": [
        "# NEURAL NETWORK "
      ]
    },
    {
      "cell_type": "code",
      "metadata": {
        "id": "kIMM_iXEjf4S"
      },
      "source": [
        "#Using neural networks \n",
        "import tensorflow as tf\n",
        "from tensorflow.keras.callbacks import EarlyStopping\n",
        "from tensorflow.keras.layers import Dense,Activation,Flatten\n",
        "from tensorflow.keras import Sequential\n",
        "from keras.models import  Sequential\n",
        "from keras.layers import Dense\n",
        "from keras.layers import Dropout\n"
      ],
      "execution_count": null,
      "outputs": []
    },
    {
      "cell_type": "code",
      "metadata": {
        "id": "mn8J9Nf1Ktrx"
      },
      "source": [
        "classifier = Sequential([\n",
        "    Dense(units =16,input_dim=30,activation='relu'),\n",
        "    Dense(units =24,activation='relu'),\n",
        "    Dense(units =20,activation='relu'),\n",
        "    Dropout(0.5),\n",
        "    Dense(units =21,activation='relu'),\n",
        "    Dense(units =24,activation='relu'),\n",
        "    Dense(1,activation='sigmoid')\n",
        "])"
      ],
      "execution_count": null,
      "outputs": []
    },
    {
      "cell_type": "code",
      "metadata": {
        "id": "pPFkUbRlKugp",
        "colab": {
          "base_uri": "https://localhost:8080/"
        },
        "outputId": "94204c25-241b-4f5c-d745-769532ac4693"
      },
      "source": [
        "classifier.summary()"
      ],
      "execution_count": null,
      "outputs": [
        {
          "output_type": "stream",
          "text": [
            "Model: \"sequential\"\n",
            "_________________________________________________________________\n",
            "Layer (type)                 Output Shape              Param #   \n",
            "=================================================================\n",
            "dense (Dense)                (None, 16)                496       \n",
            "_________________________________________________________________\n",
            "dense_1 (Dense)              (None, 24)                408       \n",
            "_________________________________________________________________\n",
            "dense_2 (Dense)              (None, 20)                500       \n",
            "_________________________________________________________________\n",
            "dropout (Dropout)            (None, 20)                0         \n",
            "_________________________________________________________________\n",
            "dense_3 (Dense)              (None, 21)                441       \n",
            "_________________________________________________________________\n",
            "dense_4 (Dense)              (None, 24)                528       \n",
            "_________________________________________________________________\n",
            "dense_5 (Dense)              (None, 1)                 25        \n",
            "=================================================================\n",
            "Total params: 2,398\n",
            "Trainable params: 2,398\n",
            "Non-trainable params: 0\n",
            "_________________________________________________________________\n"
          ],
          "name": "stdout"
        }
      ]
    },
    {
      "cell_type": "markdown",
      "metadata": {
        "id": "qaxJccq8aMDY"
      },
      "source": [
        "#Training"
      ]
    },
    {
      "cell_type": "code",
      "metadata": {
        "id": "e3b0iEIIgM-l",
        "colab": {
          "base_uri": "https://localhost:8080/"
        },
        "outputId": "d0cd2604-5a90-4e83-be36-dd38a3737f2e"
      },
      "source": [
        "y_train.shape"
      ],
      "execution_count": null,
      "outputs": [
        {
          "output_type": "execute_result",
          "data": {
            "text/plain": [
              "(199364, 1)"
            ]
          },
          "metadata": {
            "tags": []
          },
          "execution_count": 62
        }
      ]
    },
    {
      "cell_type": "code",
      "metadata": {
        "id": "reF9XWGwKuWe",
        "colab": {
          "base_uri": "https://localhost:8080/"
        },
        "outputId": "dbb1c970-93d4-4380-b87d-03b9d694dfc8"
      },
      "source": [
        "classifier.compile(optimizer='adam',loss='binary_crossentropy',metrics=['accuracy'])\n",
        "history=classifier.fit(X_train,y_train,batch_size=30,epochs=5,validation_data = (X_test,y_test))"
      ],
      "execution_count": null,
      "outputs": [
        {
          "output_type": "stream",
          "text": [
            "Epoch 1/5\n",
            "6646/6646 [==============================] - 14s 2ms/step - loss: 0.0365 - accuracy: 0.9945 - val_loss: 0.0040 - val_accuracy: 0.9994\n",
            "Epoch 2/5\n",
            "6646/6646 [==============================] - 12s 2ms/step - loss: 0.0048 - accuracy: 0.9993 - val_loss: 0.0037 - val_accuracy: 0.9994\n",
            "Epoch 3/5\n",
            "6646/6646 [==============================] - 12s 2ms/step - loss: 0.0040 - accuracy: 0.9993 - val_loss: 0.0041 - val_accuracy: 0.9994\n",
            "Epoch 4/5\n",
            "6646/6646 [==============================] - 12s 2ms/step - loss: 0.0028 - accuracy: 0.9995 - val_loss: 0.0045 - val_accuracy: 0.9994\n",
            "Epoch 5/5\n",
            "6646/6646 [==============================] - 12s 2ms/step - loss: 0.0028 - accuracy: 0.9994 - val_loss: 0.0046 - val_accuracy: 0.9994\n"
          ],
          "name": "stdout"
        }
      ]
    },
    {
      "cell_type": "code",
      "metadata": {
        "id": "Na-_bgmMKuKA",
        "colab": {
          "base_uri": "https://localhost:8080/"
        },
        "outputId": "578a36b2-2a96-4905-d067-0f15ba67d53b"
      },
      "source": [
        "score = classifier.evaluate(X_test,y_test)"
      ],
      "execution_count": null,
      "outputs": [
        {
          "output_type": "stream",
          "text": [
            "2671/2671 [==============================] - 3s 940us/step - loss: 0.0046 - accuracy: 0.9994\n"
          ],
          "name": "stdout"
        }
      ]
    },
    {
      "cell_type": "code",
      "metadata": {
        "id": "sSkybQgkdTS4",
        "colab": {
          "base_uri": "https://localhost:8080/"
        },
        "outputId": "2fae96f8-65bd-44b6-e02a-adea80a326c9"
      },
      "source": [
        "print(score)"
      ],
      "execution_count": null,
      "outputs": [
        {
          "output_type": "stream",
          "text": [
            "[0.004594001453369856, 0.9993680119514465]\n"
          ],
          "name": "stdout"
        }
      ]
    },
    {
      "cell_type": "code",
      "metadata": {
        "id": "F3RJlCLjjePn"
      },
      "source": [
        "y_predicted = classifier.predict(X_test)"
      ],
      "execution_count": null,
      "outputs": []
    },
    {
      "cell_type": "code",
      "metadata": {
        "id": "evFvB-jWtvIW",
        "colab": {
          "base_uri": "https://localhost:8080/",
          "height": 322
        },
        "outputId": "81ff85ca-d832-4225-a4ba-295ea23abbc8"
      },
      "source": [
        "cnf_matrix = confusion_matrix(y_true = y_test, y_pred = y_predicted.round())\n",
        "labels = ['Non-fraud', 'Fraud']\n",
        "sns.heatmap(pd.DataFrame(cnf_matrix),xticklabels = labels, yticklabels = labels, annot=True, cmap=\"Reds\", fmt='g')\n",
        "plt.ylabel('Actual Label',size = 15)\n",
        "plt.xlabel('Predicted Label',size = 15)\n",
        "plt.title(\"Confusion Matrix Plotting for Neural Network\", size = 20)"
      ],
      "execution_count": null,
      "outputs": [
        {
          "output_type": "execute_result",
          "data": {
            "text/plain": [
              "Text(0.5, 1.0, 'Confusion Matrix Plotting for Neural Network')"
            ]
          },
          "metadata": {
            "tags": []
          },
          "execution_count": 68
        },
        {
          "output_type": "display_data",
          "data": {
            "image/png": "[encoded data removed]",
            "text/plain": [
              "<Figure size 432x288 with 2 Axes>"
            ]
          },
          "metadata": {
            "tags": [],
            "needs_background": "light"
          }
        }
      ]
    },
    {
      "cell_type": "code",
      "metadata": {
        "id": "ADjBztsTjeL1",
        "colab": {
          "base_uri": "https://localhost:8080/"
        },
        "outputId": "13a25471-9d85-4afd-e1fe-a17ba53517e1"
      },
      "source": [
        "print('Classification report:\\n', classification_report(y_test, y_predicted.round()))\n",
        "print('accuracy :\\n',accuracy_score(y_test,y_predicted.round()))"
      ],
      "execution_count": null,
      "outputs": [
        {
          "output_type": "stream",
          "text": [
            "Classification report:\n",
            "               precision    recall  f1-score   support\n",
            "\n",
            "           0       1.00      1.00      1.00     85296\n",
            "           1       0.84      0.78      0.81       147\n",
            "\n",
            "    accuracy                           1.00     85443\n",
            "   macro avg       0.92      0.89      0.90     85443\n",
            "weighted avg       1.00      1.00      1.00     85443\n",
            "\n",
            "accuracy :\n",
            " 0.9993679997191109\n"
          ],
          "name": "stdout"
        }
      ]
    },
    {
      "cell_type": "code",
      "metadata": {
        "id": "4VKWB1-w9Oz7",
        "colab": {
          "base_uri": "https://localhost:8080/",
          "height": 282
        },
        "outputId": "f7e2f3c7-c3ee-4e01-a8a1-bcbd1b552bf4"
      },
      "source": [
        "\n",
        "print(roc_auc_score(y_test, y_predicted))\n",
        "\n",
        "fpr, tpr, thresholds = roc_curve(y_test,y_predicted)\n",
        "plt.plot(fpr, tpr)\n",
        "plt.plot([0, 1], [0, 1], color='navy', linestyle='--')\n",
        "plt.show()"
      ],
      "execution_count": null,
      "outputs": [
        {
          "output_type": "stream",
          "text": [
            "0.9590339746853535\n"
          ],
          "name": "stdout"
        },
        {
          "output_type": "display_data",
          "data": {
            "image/png": "[encoded data removed]",
            "text/plain": [
              "<Figure size 432x288 with 1 Axes>"
            ]
          },
          "metadata": {
            "tags": [],
            "needs_background": "light"
          }
        }
      ]
    },
    {
      "cell_type": "markdown",
      "metadata": {
        "id": "mfWTTzK74Cg3"
      },
      "source": [
        "#Neural Network Using RUS"
      ]
    },
    {
      "cell_type": "code",
      "metadata": {
        "colab": {
          "base_uri": "https://localhost:8080/"
        },
        "id": "Ueq0KpzV4AgJ",
        "outputId": "c353cd29-6172-46c6-a401-56c2931028f9"
      },
      "source": [
        "classifier.compile(optimizer='adam',loss='binary_crossentropy',metrics=['accuracy'])\n",
        "history=classifier.fit(X_train_rus,y_train_rus,batch_size=30,epochs=5,validation_data = (X_test,y_test))"
      ],
      "execution_count": null,
      "outputs": [
        {
          "output_type": "stream",
          "text": [
            "Epoch 1/5\n",
            "23/23 [==============================] - 3s 112ms/step - loss: 9.4269e-05 - accuracy: 1.0000 - val_loss: 0.0197 - val_accuracy: 0.9982\n",
            "Epoch 2/5\n",
            "23/23 [==============================] - 2s 103ms/step - loss: 0.0012 - accuracy: 1.0000 - val_loss: 0.0221 - val_accuracy: 0.9980\n",
            "Epoch 3/5\n",
            "23/23 [==============================] - 2s 103ms/step - loss: 0.0046 - accuracy: 0.9976 - val_loss: 0.0231 - val_accuracy: 0.9980\n",
            "Epoch 4/5\n",
            "23/23 [==============================] - 2s 104ms/step - loss: 5.8027e-06 - accuracy: 1.0000 - val_loss: 0.0239 - val_accuracy: 0.9981\n",
            "Epoch 5/5\n",
            "23/23 [==============================] - 2s 106ms/step - loss: 5.0894e-06 - accuracy: 1.0000 - val_loss: 0.0249 - val_accuracy: 0.9981\n"
          ],
          "name": "stdout"
        }
      ]
    },
    {
      "cell_type": "code",
      "metadata": {
        "colab": {
          "base_uri": "https://localhost:8080/"
        },
        "id": "ccgZmena3_vT",
        "outputId": "8993e18d-8c13-4e2d-a490-cb1ad54d4001"
      },
      "source": [
        "score = classifier.evaluate(X_test,y_test)\n",
        "print(score)"
      ],
      "execution_count": null,
      "outputs": [
        {
          "output_type": "stream",
          "text": [
            "2671/2671 [==============================] - 2s 923us/step - loss: 0.0249 - accuracy: 0.9981\n",
            "[0.024900920689105988, 0.9980571866035461]\n"
          ],
          "name": "stdout"
        }
      ]
    },
    {
      "cell_type": "code",
      "metadata": {
        "id": "nNb6CMW43_bP"
      },
      "source": [
        "y_predicted_rus = classifier.predict(X_test)"
      ],
      "execution_count": null,
      "outputs": []
    },
    {
      "cell_type": "code",
      "metadata": {
        "colab": {
          "base_uri": "https://localhost:8080/",
          "height": 322
        },
        "id": "aOuz6lQy4gA7",
        "outputId": "e6ea13b0-1444-4591-ca89-a0278b1dcda1"
      },
      "source": [
        "cnf_matrix = confusion_matrix(y_true = y_test, y_pred = y_predicted_rus.round())\n",
        "labels = ['Non-fraud', 'Fraud']\n",
        "sns.heatmap(pd.DataFrame(cnf_matrix),xticklabels = labels, yticklabels = labels, annot=True, cmap=\"Reds\", fmt='g')\n",
        "plt.ylabel('Actual Label',size = 15)\n",
        "plt.xlabel('Predicted Label',size = 15)\n",
        "plt.title(\"Confusion Matrix Plotting for Neural Network\", size = 20)"
      ],
      "execution_count": null,
      "outputs": [
        {
          "output_type": "execute_result",
          "data": {
            "text/plain": [
              "Text(0.5, 1.0, 'Confusion Matrix Plotting for Neural Network')"
            ]
          },
          "metadata": {
            "tags": []
          },
          "execution_count": 90
        },
        {
          "output_type": "display_data",
          "data": {
            "image/png": "[encoded data removed]",
            "text/plain": [
              "<Figure size 432x288 with 2 Axes>"
            ]
          },
          "metadata": {
            "tags": [],
            "needs_background": "light"
          }
        }
      ]
    },
    {
      "cell_type": "code",
      "metadata": {
        "colab": {
          "base_uri": "https://localhost:8080/"
        },
        "id": "lWYAJogQ4uyI",
        "outputId": "2953033e-79aa-48d8-b890-518528414072"
      },
      "source": [
        "print('Classification report:\\n', classification_report(y_test, y_predicted_rus.round()))\n",
        "print('accuracy :\\n',accuracy_score(y_test,y_predicted_rus.round()))"
      ],
      "execution_count": null,
      "outputs": [
        {
          "output_type": "stream",
          "text": [
            "Classification report:\n",
            "               precision    recall  f1-score   support\n",
            "\n",
            "           0       1.00      1.00      1.00     85296\n",
            "           1       0.46      0.84      0.60       147\n",
            "\n",
            "    accuracy                           1.00     85443\n",
            "   macro avg       0.73      0.92      0.80     85443\n",
            "weighted avg       1.00      1.00      1.00     85443\n",
            "\n",
            "accuracy :\n",
            " 0.9980571843217115\n"
          ],
          "name": "stdout"
        }
      ]
    },
    {
      "cell_type": "code",
      "metadata": {
        "colab": {
          "base_uri": "https://localhost:8080/",
          "height": 282
        },
        "id": "3fqSdZ0F5NnG",
        "outputId": "605ac477-cf2f-4571-9e2f-307dba98f63b"
      },
      "source": [
        "\n",
        "print(roc_auc_score(y_test, y_predicted_rus))\n",
        "\n",
        "fpr, tpr, thresholds = roc_curve(y_test,y_predicted_rus)\n",
        "plt.plot(fpr, tpr)\n",
        "plt.plot([0, 1], [0, 1], color='navy', linestyle='--')\n",
        "plt.show()"
      ],
      "execution_count": null,
      "outputs": [
        {
          "output_type": "stream",
          "text": [
            "0.9586003905407596\n"
          ],
          "name": "stdout"
        },
        {
          "output_type": "display_data",
          "data": {
            "image/png": "[encoded data removed]",
            "text/plain": [
              "<Figure size 432x288 with 1 Axes>"
            ]
          },
          "metadata": {
            "tags": [],
            "needs_background": "light"
          }
        }
      ]
    },
    {
      "cell_type": "markdown",
      "metadata": {
        "id": "uoLbGjNy30g1"
      },
      "source": [
        "#Neural Network using ROS"
      ]
    },
    {
      "cell_type": "code",
      "metadata": {
        "colab": {
          "base_uri": "https://localhost:8080/"
        },
        "id": "QC-zC1qE2fTn",
        "outputId": "fc8308be-ae46-484d-c128-46da62ba2297"
      },
      "source": [
        "classifier.compile(optimizer='adam',loss='binary_crossentropy',metrics=['accuracy'])\n",
        "history=classifier.fit(X_train_ros,y_train_ros,batch_size=30,epochs=5,validation_data = (X_test,y_test))"
      ],
      "execution_count": null,
      "outputs": [
        {
          "output_type": "stream",
          "text": [
            "Epoch 1/5\n",
            "13268/13268 [==============================] - 23s 2ms/step - loss: 0.0060 - accuracy: 0.9985 - val_loss: 0.0156 - val_accuracy: 0.9981\n",
            "Epoch 2/5\n",
            "13268/13268 [==============================] - 23s 2ms/step - loss: 0.0050 - accuracy: 0.9987 - val_loss: 0.0174 - val_accuracy: 0.9988\n",
            "Epoch 3/5\n",
            "13268/13268 [==============================] - 23s 2ms/step - loss: 0.0048 - accuracy: 0.9988 - val_loss: 0.0184 - val_accuracy: 0.9989\n",
            "Epoch 4/5\n",
            "13268/13268 [==============================] - 23s 2ms/step - loss: 0.0048 - accuracy: 0.9988 - val_loss: 0.0171 - val_accuracy: 0.9985\n",
            "Epoch 5/5\n",
            "13268/13268 [==============================] - 23s 2ms/step - loss: 0.0040 - accuracy: 0.9989 - val_loss: 0.0146 - val_accuracy: 0.9987\n"
          ],
          "name": "stdout"
        }
      ]
    },
    {
      "cell_type": "code",
      "metadata": {
        "colab": {
          "base_uri": "https://localhost:8080/"
        },
        "id": "FP5zzHHf29jd",
        "outputId": "72407877-e1f6-410f-8b93-085962f514a4"
      },
      "source": [
        "score = classifier.evaluate(X_test,y_test)\n",
        "print(score)"
      ],
      "execution_count": null,
      "outputs": [
        {
          "output_type": "stream",
          "text": [
            "2671/2671 [==============================] - 3s 948us/step - loss: 0.0146 - accuracy: 0.9987\n",
            "[0.014600381255149841, 0.9987360239028931]\n"
          ],
          "name": "stdout"
        }
      ]
    },
    {
      "cell_type": "code",
      "metadata": {
        "id": "Z1HOyvnh3IBa"
      },
      "source": [
        "y_predicted_ros = classifier.predict(X_test)"
      ],
      "execution_count": null,
      "outputs": []
    },
    {
      "cell_type": "code",
      "metadata": {
        "colab": {
          "base_uri": "https://localhost:8080/",
          "height": 322
        },
        "id": "ys6M6WVY3Sgd",
        "outputId": "b263ace1-ecc5-4525-98cb-cbf5ba884c69"
      },
      "source": [
        "cnf_matrix = confusion_matrix(y_true = y_test, y_pred = y_predicted_ros.round())\n",
        "labels = ['Non-fraud', 'Fraud']\n",
        "sns.heatmap(pd.DataFrame(cnf_matrix),xticklabels = labels, yticklabels = labels, annot=True, cmap=\"Reds\", fmt='g')\n",
        "plt.ylabel('Actual Label',size = 15)\n",
        "plt.xlabel('Predicted Label',size = 15)\n",
        "plt.title(\"Confusion Matrix Plotting for Neural Network\", size = 20)"
      ],
      "execution_count": null,
      "outputs": [
        {
          "output_type": "execute_result",
          "data": {
            "text/plain": [
              "Text(0.5, 1.0, 'Confusion Matrix Plotting for Neural Network')"
            ]
          },
          "metadata": {
            "tags": []
          },
          "execution_count": 84
        },
        {
          "output_type": "display_data",
          "data": {
            "image/png": "[encoded data removed]",
            "text/plain": [
              "<Figure size 432x288 with 2 Axes>"
            ]
          },
          "metadata": {
            "tags": [],
            "needs_background": "light"
          }
        }
      ]
    },
    {
      "cell_type": "code",
      "metadata": {
        "colab": {
          "base_uri": "https://localhost:8080/"
        },
        "id": "8_EuGS_X3n7-",
        "outputId": "22c5cbd7-eab1-4638-e49e-d1aa17ffea1e"
      },
      "source": [
        "print('Classification report:\\n', classification_report(y_test, y_predicted_ros.round()))\n",
        "print('accuracy :\\n',accuracy_score(y_test,y_predicted_ros.round()))"
      ],
      "execution_count": null,
      "outputs": [
        {
          "output_type": "stream",
          "text": [
            "Classification report:\n",
            "               precision    recall  f1-score   support\n",
            "\n",
            "           0       1.00      1.00      1.00     85296\n",
            "           1       0.60      0.83      0.69       147\n",
            "\n",
            "    accuracy                           1.00     85443\n",
            "   macro avg       0.80      0.91      0.85     85443\n",
            "weighted avg       1.00      1.00      1.00     85443\n",
            "\n",
            "accuracy :\n",
            " 0.998735999438222\n"
          ],
          "name": "stdout"
        }
      ]
    },
    {
      "cell_type": "code",
      "metadata": {
        "colab": {
          "base_uri": "https://localhost:8080/",
          "height": 282
        },
        "id": "mCJXAkcu5YNy",
        "outputId": "23e4cafd-e8ed-4454-8f93-a46f19cc810e"
      },
      "source": [
        "\n",
        "print(roc_auc_score(y_test, y_predicted_ros))\n",
        "\n",
        "fpr, tpr, thresholds = roc_curve(y_test,y_predicted_ros)\n",
        "plt.plot(fpr, tpr)\n",
        "plt.plot([0, 1], [0, 1], color='navy', linestyle='--')\n",
        "plt.show()"
      ],
      "execution_count": null,
      "outputs": [
        {
          "output_type": "stream",
          "text": [
            "0.9586003905407596\n"
          ],
          "name": "stdout"
        },
        {
          "output_type": "display_data",
          "data": {
            "image/png": "[encoded data removed]",
            "text/plain": [
              "<Figure size 432x288 with 1 Axes>"
            ]
          },
          "metadata": {
            "tags": [],
            "needs_background": "light"
          }
        }
      ]
    },
    {
      "cell_type": "markdown",
      "metadata": {
        "id": "Xp26PmaV_BgL"
      },
      "source": [
        "#Neural Network using SMOTE"
      ]
    },
    {
      "cell_type": "code",
      "metadata": {
        "id": "8h9We0tw-u8I"
      },
      "source": [
        "classifier = Sequential([\n",
        "    Dense(units =16,input_dim=30,activation='relu'),\n",
        "    Dense(units =24,activation='relu'),\n",
        "    Dense(units =20,activation='relu'),\n",
        "    Dropout(0.5),\n",
        "    Dense(units =21,activation='relu'),\n",
        "    Dense(units =24,activation='relu'),\n",
        "    Dense(1,activation='sigmoid')\n",
        "])"
      ],
      "execution_count": null,
      "outputs": []
    },
    {
      "cell_type": "code",
      "metadata": {
        "id": "hpWFNw2f_JRy",
        "colab": {
          "base_uri": "https://localhost:8080/"
        },
        "outputId": "ce985827-1d9c-4972-dbe1-bdd340211eff"
      },
      "source": [
        "classifier.summary()"
      ],
      "execution_count": null,
      "outputs": [
        {
          "output_type": "stream",
          "text": [
            "Model: \"sequential_1\"\n",
            "_________________________________________________________________\n",
            "Layer (type)                 Output Shape              Param #   \n",
            "=================================================================\n",
            "dense_6 (Dense)              (None, 16)                496       \n",
            "_________________________________________________________________\n",
            "dense_7 (Dense)              (None, 24)                408       \n",
            "_________________________________________________________________\n",
            "dense_8 (Dense)              (None, 20)                500       \n",
            "_________________________________________________________________\n",
            "dropout_1 (Dropout)          (None, 20)                0         \n",
            "_________________________________________________________________\n",
            "dense_9 (Dense)              (None, 21)                441       \n",
            "_________________________________________________________________\n",
            "dense_10 (Dense)             (None, 24)                528       \n",
            "_________________________________________________________________\n",
            "dense_11 (Dense)             (None, 1)                 25        \n",
            "=================================================================\n",
            "Total params: 2,398\n",
            "Trainable params: 2,398\n",
            "Non-trainable params: 0\n",
            "_________________________________________________________________\n"
          ],
          "name": "stdout"
        }
      ]
    },
    {
      "cell_type": "code",
      "metadata": {
        "id": "e5ACTvOO_JEn",
        "colab": {
          "base_uri": "https://localhost:8080/"
        },
        "outputId": "964778dd-03b4-486c-cab6-40083778ad95"
      },
      "source": [
        "classifier.compile(optimizer='adam',loss='binary_crossentropy',metrics=['accuracy'])\n",
        "history=classifier.fit(X_train_smote,y_train_smote,batch_size=30,epochs=5,validation_data = (X_test,y_test))"
      ],
      "execution_count": null,
      "outputs": [
        {
          "output_type": "stream",
          "text": [
            "Epoch 1/5\n",
            "13268/13268 [==============================] - 24s 2ms/step - loss: 0.0771 - accuracy: 0.9680 - val_loss: 0.0231 - val_accuracy: 0.9946\n",
            "Epoch 2/5\n",
            "13268/13268 [==============================] - 23s 2ms/step - loss: 0.0117 - accuracy: 0.9968 - val_loss: 0.0167 - val_accuracy: 0.9976\n",
            "Epoch 3/5\n",
            "13268/13268 [==============================] - 23s 2ms/step - loss: 0.0094 - accuracy: 0.9977 - val_loss: 0.0208 - val_accuracy: 0.9970\n",
            "Epoch 4/5\n",
            "13268/13268 [==============================] - 23s 2ms/step - loss: 0.0072 - accuracy: 0.9981 - val_loss: 0.0210 - val_accuracy: 0.9978\n",
            "Epoch 5/5\n",
            "13268/13268 [==============================] - 23s 2ms/step - loss: 0.0073 - accuracy: 0.9979 - val_loss: 0.0164 - val_accuracy: 0.9979\n"
          ],
          "name": "stdout"
        }
      ]
    },
    {
      "cell_type": "code",
      "metadata": {
        "id": "xPOgdjRa_I4j",
        "colab": {
          "base_uri": "https://localhost:8080/"
        },
        "outputId": "32e1402c-010d-4550-8b59-a26c4bc84ae0"
      },
      "source": [
        "score = classifier.evaluate(X_test,y_test)"
      ],
      "execution_count": null,
      "outputs": [
        {
          "output_type": "stream",
          "text": [
            "2671/2671 [==============================] - 2s 904us/step - loss: 0.0164 - accuracy: 0.9979\n"
          ],
          "name": "stdout"
        }
      ]
    },
    {
      "cell_type": "code",
      "metadata": {
        "id": "cWKRHEdjAVeP",
        "colab": {
          "base_uri": "https://localhost:8080/"
        },
        "outputId": "597e7cec-92d2-4969-e787-a63b85b13ae0"
      },
      "source": [
        "print(score)"
      ],
      "execution_count": null,
      "outputs": [
        {
          "output_type": "stream",
          "text": [
            "[0.01635276898741722, 0.9978582262992859]\n"
          ],
          "name": "stdout"
        }
      ]
    },
    {
      "cell_type": "code",
      "metadata": {
        "id": "fGWvNnBFAVQh"
      },
      "source": [
        "y_predicted_smote = classifier.predict(X_test)"
      ],
      "execution_count": null,
      "outputs": []
    },
    {
      "cell_type": "code",
      "metadata": {
        "id": "kfsLW1FnAVBk",
        "colab": {
          "base_uri": "https://localhost:8080/",
          "height": 322
        },
        "outputId": "897d7553-c9dd-4ac1-bfc8-d0a20819d693"
      },
      "source": [
        "cnf_matrix = confusion_matrix(y_true = y_test, y_pred = y_predicted_smote.round())\n",
        "labels = ['Non-fraud', 'Fraud']\n",
        "sns.heatmap(pd.DataFrame(cnf_matrix),xticklabels = labels, yticklabels = labels, annot=True, cmap=\"Reds\", fmt='g')\n",
        "plt.ylabel('Actual Label',size = 15)\n",
        "plt.xlabel('Predicted Label',size = 15)\n",
        "plt.title(\"Confusion Matrix Plotting for Neural Network\", size = 20)"
      ],
      "execution_count": null,
      "outputs": [
        {
          "output_type": "execute_result",
          "data": {
            "text/plain": [
              "Text(0.5, 1.0, 'Confusion Matrix Plotting for Neural Network')"
            ]
          },
          "metadata": {
            "tags": []
          },
          "execution_count": 77
        },
        {
          "output_type": "display_data",
          "data": {
            "image/png": "[encoded data removed]",
            "text/plain": [
              "<Figure size 432x288 with 2 Axes>"
            ]
          },
          "metadata": {
            "tags": [],
            "needs_background": "light"
          }
        }
      ]
    },
    {
      "cell_type": "code",
      "metadata": {
        "id": "xX4OuaQEAUyT",
        "colab": {
          "base_uri": "https://localhost:8080/"
        },
        "outputId": "037385b8-150c-47ad-e5bd-b21384d8c8d7"
      },
      "source": [
        "print('Classification report:\\n', classification_report(y_test, y_predicted_smote.round()))\n",
        "print('accuracy :\\n',accuracy_score(y_test,y_predicted_smote.round()))"
      ],
      "execution_count": null,
      "outputs": [
        {
          "output_type": "stream",
          "text": [
            "Classification report:\n",
            "               precision    recall  f1-score   support\n",
            "\n",
            "           0       1.00      1.00      1.00     85296\n",
            "           1       0.44      0.84      0.57       147\n",
            "\n",
            "    accuracy                           1.00     85443\n",
            "   macro avg       0.72      0.92      0.79     85443\n",
            "weighted avg       1.00      1.00      1.00     85443\n",
            "\n",
            "accuracy :\n",
            " 0.9978582212703205\n"
          ],
          "name": "stdout"
        }
      ]
    },
    {
      "cell_type": "code",
      "metadata": {
        "id": "y084EC48B-v-",
        "colab": {
          "base_uri": "https://localhost:8080/",
          "height": 282
        },
        "outputId": "92aa2ad6-9dea-4ab3-dc5d-27b4891302ed"
      },
      "source": [
        "print(roc_auc_score(y_test, y_predicted_smote))\n",
        "\n",
        "fpr, tpr, thresholds = roc_curve(y_test,y_predicted_smote)\n",
        "plt.plot(fpr, tpr)\n",
        "plt.plot([0, 1], [0, 1], color='navy', linestyle='--')\n",
        "plt.show()"
      ],
      "execution_count": null,
      "outputs": [
        {
          "output_type": "stream",
          "text": [
            "0.9577788018227362\n"
          ],
          "name": "stdout"
        },
        {
          "output_type": "display_data",
          "data": {
            "image/png": "[encoded data removed]",
            "text/plain": [
              "<Figure size 432x288 with 1 Axes>"
            ]
          },
          "metadata": {
            "tags": [],
            "needs_background": "light"
          }
        }
      ]
    },
    {
      "cell_type": "markdown",
      "metadata": {
        "id": "wUW6TvVBiyF-"
      },
      "source": [
        "#Neural Network with BLSMOTE"
      ]
    },
    {
      "cell_type": "code",
      "metadata": {
        "colab": {
          "base_uri": "https://localhost:8080/"
        },
        "id": "FVcpivAHixti",
        "outputId": "737f54a0-ce9b-4670-f15d-8ad434c0eace"
      },
      "source": [
        "classifier.compile(optimizer='adam',loss='binary_crossentropy',metrics=['accuracy'])\n",
        "history=classifier.fit(X_train_blsmote,y_train_blsmote,batch_size=30,epochs=5,validation_data = (X_test,y_test))"
      ],
      "execution_count": null,
      "outputs": [
        {
          "output_type": "stream",
          "text": [
            "Epoch 1/5\n",
            "13268/13268 [==============================] - 24s 2ms/step - loss: 0.0140 - accuracy: 0.9965 - val_loss: 0.0140 - val_accuracy: 0.9982\n",
            "Epoch 2/5\n",
            "13268/13268 [==============================] - 23s 2ms/step - loss: 0.0054 - accuracy: 0.9986 - val_loss: 0.0142 - val_accuracy: 0.9984\n",
            "Epoch 3/5\n",
            "13268/13268 [==============================] - 24s 2ms/step - loss: 0.0044 - accuracy: 0.9987 - val_loss: 0.0115 - val_accuracy: 0.9987\n",
            "Epoch 4/5\n",
            "13268/13268 [==============================] - 24s 2ms/step - loss: 0.0045 - accuracy: 0.9989 - val_loss: 0.0107 - val_accuracy: 0.9991\n",
            "Epoch 5/5\n",
            "13268/13268 [==============================] - 23s 2ms/step - loss: 0.0040 - accuracy: 0.9989 - val_loss: 0.0121 - val_accuracy: 0.9988\n"
          ],
          "name": "stdout"
        }
      ]
    },
    {
      "cell_type": "code",
      "metadata": {
        "colab": {
          "base_uri": "https://localhost:8080/"
        },
        "id": "4mk2oQLwjBSz",
        "outputId": "84556746-f395-4222-f8c7-83e5b53de4da"
      },
      "source": [
        "score = classifier.evaluate(X_test,y_test)\n",
        "print(score)"
      ],
      "execution_count": null,
      "outputs": [
        {
          "output_type": "stream",
          "text": [
            "2671/2671 [==============================] - 2s 922us/step - loss: 0.0121 - accuracy: 0.9988\n",
            "[0.012089733965694904, 0.9988179206848145]\n"
          ],
          "name": "stdout"
        }
      ]
    },
    {
      "cell_type": "code",
      "metadata": {
        "id": "esfxVbHMjC1l"
      },
      "source": [
        "y_predicted_blsmote = classifier.predict(X_test)"
      ],
      "execution_count": null,
      "outputs": []
    },
    {
      "cell_type": "code",
      "metadata": {
        "colab": {
          "base_uri": "https://localhost:8080/",
          "height": 322
        },
        "id": "IDeLvYOGjMrY",
        "outputId": "7195a8af-9570-4a09-a533-fb5ab68d9edb"
      },
      "source": [
        "cnf_matrix = confusion_matrix(y_true = y_test, y_pred = y_predicted_blsmote.round())\n",
        "labels = ['Non-fraud', 'Fraud']\n",
        "sns.heatmap(pd.DataFrame(cnf_matrix),xticklabels = labels, yticklabels = labels, annot=True, cmap=\"Reds\", fmt='g')\n",
        "plt.ylabel('Actual Label',size = 15)\n",
        "plt.xlabel('Predicted Label',size = 15)\n",
        "plt.title(\"Confusion Matrix Plotting for Neural Network\", size = 20)"
      ],
      "execution_count": null,
      "outputs": [
        {
          "output_type": "execute_result",
          "data": {
            "text/plain": [
              "Text(0.5, 1.0, 'Confusion Matrix Plotting for Neural Network')"
            ]
          },
          "metadata": {
            "tags": []
          },
          "execution_count": 112
        },
        {
          "output_type": "display_data",
          "data": {
            "image/png": "[encoded data removed]",
            "text/plain": [
              "<Figure size 432x288 with 2 Axes>"
            ]
          },
          "metadata": {
            "tags": [],
            "needs_background": "light"
          }
        }
      ]
    },
    {
      "cell_type": "code",
      "metadata": {
        "colab": {
          "base_uri": "https://localhost:8080/"
        },
        "id": "Yd_FrQgdjSW4",
        "outputId": "eab083b6-dbb1-4bee-a463-e9669a86cdcd"
      },
      "source": [
        "print('Classification report:\\n', classification_report(y_test, y_predicted_blsmote.round()))\n",
        "print('accuracy :\\n',accuracy_score(y_test,y_predicted_blsmote.round()))"
      ],
      "execution_count": null,
      "outputs": [
        {
          "output_type": "stream",
          "text": [
            "Classification report:\n",
            "               precision    recall  f1-score   support\n",
            "\n",
            "           0       1.00      1.00      1.00     85296\n",
            "           1       0.62      0.83      0.71       147\n",
            "\n",
            "    accuracy                           1.00     85443\n",
            "   macro avg       0.81      0.91      0.85     85443\n",
            "weighted avg       1.00      1.00      1.00     85443\n",
            "\n",
            "accuracy :\n",
            " 0.9988179254005595\n"
          ],
          "name": "stdout"
        }
      ]
    },
    {
      "cell_type": "code",
      "metadata": {
        "colab": {
          "base_uri": "https://localhost:8080/",
          "height": 282
        },
        "id": "jYNxsyvVjY46",
        "outputId": "10f168a1-5a50-4eeb-c557-ab340f60fb28"
      },
      "source": [
        "print(roc_auc_score(y_test, y_predicted_blsmote))\n",
        "\n",
        "fpr, tpr, thresholds = roc_curve(y_test,y_predicted_blsmote)\n",
        "plt.plot(fpr, tpr)\n",
        "plt.plot([0, 1], [0, 1], color='navy', linestyle='--')\n",
        "plt.show()"
      ],
      "execution_count": null,
      "outputs": [
        {
          "output_type": "stream",
          "text": [
            "0.9631413599955083\n"
          ],
          "name": "stdout"
        },
        {
          "output_type": "display_data",
          "data": {
            "image/png": "[encoded data removed]",
            "text/plain": [
              "<Figure size 432x288 with 1 Axes>"
            ]
          },
          "metadata": {
            "tags": [],
            "needs_background": "light"
          }
        }
      ]
    },
    {
      "cell_type": "markdown",
      "metadata": {
        "id": "ZYtYHlHFFQOJ"
      },
      "source": [
        "# naive bayes"
      ]
    },
    {
      "cell_type": "code",
      "metadata": {
        "id": "Xv-fH9fzFOt-",
        "colab": {
          "base_uri": "https://localhost:8080/"
        },
        "outputId": "774e0d35-ca21-436a-ccc3-e5cd0e1bd3a8"
      },
      "source": [
        "# Naive Bayes\n",
        "from sklearn.naive_bayes import GaussianNB\n",
        "from sklearn.tree import DecisionTreeClassifier\n",
        "from sklearn.svm import SVC\n",
        "Model = GaussianNB()\n",
        "Model.fit(X_train, y_train)\n",
        "y_pred = Model.predict(X_test)\n",
        "\n",
        "# Summary of the predictions made by the classifier\n",
        "print(classification_report(y_test, y_pred))\n",
        "print(confusion_matrix(y_test, y_pred))\n",
        "# Accuracy score\n",
        "\n",
        "print('accuracy is',accuracy_score(y_pred,y_test))"
      ],
      "execution_count": null,
      "outputs": [
        {
          "output_type": "stream",
          "text": [
            "/usr/local/lib/python3.7/dist-packages/sklearn/naive_bayes.py:206: DataConversionWarning: A column-vector y was passed when a 1d array was expected. Please change the shape of y to (n_samples, ), for example using ravel().\n",
            "  y = column_or_1d(y, warn=True)\n"
          ],
          "name": "stderr"
        },
        {
          "output_type": "stream",
          "text": [
            "              precision    recall  f1-score   support\n",
            "\n",
            "           0       1.00      0.98      0.99     85296\n",
            "           1       0.06      0.84      0.12       147\n",
            "\n",
            "    accuracy                           0.98     85443\n",
            "   macro avg       0.53      0.91      0.55     85443\n",
            "weighted avg       1.00      0.98      0.99     85443\n",
            "\n",
            "[[83480  1816]\n",
            " [   24   123]]\n",
            "accuracy is 0.9784651756141521\n"
          ],
          "name": "stdout"
        }
      ]
    },
    {
      "cell_type": "markdown",
      "metadata": {
        "id": "fOnuE8m07zr7"
      },
      "source": [
        "#Naive Bayes with RUS"
      ]
    },
    {
      "cell_type": "code",
      "metadata": {
        "colab": {
          "base_uri": "https://localhost:8080/"
        },
        "id": "N6JfszK27dtc",
        "outputId": "aaa1d0a9-c1ee-45e4-b78b-c6d5f5aba57e"
      },
      "source": [
        "Model = GaussianNB()\n",
        "Model.fit(X_train_rus, y_train_rus)\n",
        "y_pred_rus = Model.predict(X_test)\n",
        "\n",
        "# Summary of the predictions made by the classifier\n",
        "print(classification_report(y_test, y_pred_rus))\n",
        "print(confusion_matrix(y_test, y_pred_rus))\n",
        "# Accuracy score\n",
        "\n",
        "print('accuracy is',accuracy_score(y_pred_rus,y_test))"
      ],
      "execution_count": null,
      "outputs": [
        {
          "output_type": "stream",
          "text": [
            "/usr/local/lib/python3.7/dist-packages/sklearn/naive_bayes.py:206: DataConversionWarning: A column-vector y was passed when a 1d array was expected. Please change the shape of y to (n_samples, ), for example using ravel().\n",
            "  y = column_or_1d(y, warn=True)\n"
          ],
          "name": "stderr"
        },
        {
          "output_type": "stream",
          "text": [
            "              precision    recall  f1-score   support\n",
            "\n",
            "           0       1.00      0.98      0.99     85296\n",
            "           1       0.06      0.84      0.10       147\n",
            "\n",
            "    accuracy                           0.98     85443\n",
            "   macro avg       0.53      0.91      0.55     85443\n",
            "weighted avg       1.00      0.98      0.99     85443\n",
            "\n",
            "[[83215  2081]\n",
            " [   24   123]]\n",
            "accuracy is 0.9753636927542338\n"
          ],
          "name": "stdout"
        }
      ]
    },
    {
      "cell_type": "markdown",
      "metadata": {
        "id": "8WhO2BB977vq"
      },
      "source": [
        "#Naive Bayes with ROS"
      ]
    },
    {
      "cell_type": "code",
      "metadata": {
        "colab": {
          "base_uri": "https://localhost:8080/"
        },
        "id": "S8MyzpcU77OC",
        "outputId": "7c800a7b-aa3c-42e3-80a7-92ba13503942"
      },
      "source": [
        "Model = GaussianNB()\n",
        "Model.fit(X_train_ros, y_train_ros)\n",
        "y_pred_ros = Model.predict(X_test)\n",
        "\n",
        "# Summary of the predictions made by the classifier\n",
        "print(classification_report(y_test, y_pred_ros))\n",
        "print(confusion_matrix(y_test, y_pred_ros))\n",
        "# Accuracy score\n",
        "\n",
        "print('accuracy is',accuracy_score(y_pred_ros,y_test))"
      ],
      "execution_count": null,
      "outputs": [
        {
          "output_type": "stream",
          "text": [
            "              precision    recall  f1-score   support\n",
            "\n",
            "           0       1.00      0.97      0.99     85296\n",
            "           1       0.06      0.86      0.10       147\n",
            "\n",
            "    accuracy                           0.97     85443\n",
            "   macro avg       0.53      0.92      0.55     85443\n",
            "weighted avg       1.00      0.97      0.99     85443\n",
            "\n",
            "[[83130  2166]\n",
            " [   20   127]]\n",
            "accuracy is 0.9744156923329003\n"
          ],
          "name": "stdout"
        }
      ]
    },
    {
      "cell_type": "markdown",
      "metadata": {
        "id": "5xMRvFCzGuvC"
      },
      "source": [
        "# naive bayes smote"
      ]
    },
    {
      "cell_type": "code",
      "metadata": {
        "id": "n_glNN5rFOou",
        "colab": {
          "base_uri": "https://localhost:8080/"
        },
        "outputId": "d57e031d-573b-4828-efaf-afd288830a9d"
      },
      "source": [
        "Model = GaussianNB()\n",
        "Model.fit(X_train_smote, y_train_smote)\n",
        "y_pred_smote = Model.predict(X_test)\n",
        "\n",
        "# Summary of the predictions made by the classifier\n",
        "print(classification_report(y_test, y_pred_smote))\n",
        "print(confusion_matrix(y_test, y_pred_smote))\n",
        "# Accuracy score\n",
        "\n",
        "print('accuracy is',accuracy_score(y_pred_smote,y_test))"
      ],
      "execution_count": null,
      "outputs": [
        {
          "output_type": "stream",
          "text": [
            "              precision    recall  f1-score   support\n",
            "\n",
            "           0       1.00      0.98      0.99     85296\n",
            "           1       0.06      0.86      0.11       147\n",
            "\n",
            "    accuracy                           0.98     85443\n",
            "   macro avg       0.53      0.92      0.55     85443\n",
            "weighted avg       1.00      0.98      0.99     85443\n",
            "\n",
            "[[83219  2077]\n",
            " [   21   126]]\n",
            "accuracy is 0.9754456187165713\n"
          ],
          "name": "stdout"
        }
      ]
    },
    {
      "cell_type": "markdown",
      "metadata": {
        "id": "CrNh4N8Kim8u"
      },
      "source": [
        "#Naive Bayes with BLSMOTE"
      ]
    },
    {
      "cell_type": "code",
      "metadata": {
        "colab": {
          "base_uri": "https://localhost:8080/"
        },
        "id": "5hwEsGGLgcaD",
        "outputId": "e1598ba4-faad-48a9-ae95-a8baea6dd1fe"
      },
      "source": [
        "Model = GaussianNB()\n",
        "Model.fit(X_train_blsmote, y_train_blsmote)\n",
        "y_pred_blsmote = Model.predict(X_test)\n",
        "\n",
        "# Summary of the predictions made by the classifier\n",
        "print(classification_report(y_test, y_pred_blsmote))\n",
        "print(confusion_matrix(y_test, y_pred_blsmote))\n",
        "# Accuracy score\n",
        "\n",
        "print('accuracy is',accuracy_score(y_pred_blsmote,y_test))"
      ],
      "execution_count": null,
      "outputs": [
        {
          "output_type": "stream",
          "text": [
            "              precision    recall  f1-score   support\n",
            "\n",
            "           0       1.00      0.96      0.98     85296\n",
            "           1       0.04      0.87      0.08       147\n",
            "\n",
            "    accuracy                           0.96     85443\n",
            "   macro avg       0.52      0.92      0.53     85443\n",
            "weighted avg       1.00      0.96      0.98     85443\n",
            "\n",
            "[[82280  3016]\n",
            " [   19   128]]\n",
            "accuracy is 0.9644792434722563\n"
          ],
          "name": "stdout"
        }
      ]
    },
    {
      "cell_type": "markdown",
      "metadata": {
        "id": "177jsFKXHcN-"
      },
      "source": [
        "# support vector machine"
      ]
    },
    {
      "cell_type": "code",
      "metadata": {
        "id": "eKznjuEYFOjf",
        "colab": {
          "base_uri": "https://localhost:8080/"
        },
        "outputId": "988fdc07-2374-4b79-9e48-07488ef99e5f"
      },
      "source": [
        "\n",
        "Model = SVC()\n",
        "Model.fit(X_train, y_train)\n",
        "y_pred = Model.predict(X_test)\n",
        "\n",
        "# Summary of the predictions made by the classifier\n",
        "print(classification_report(y_test, y_pred))\n",
        "print(confusion_matrix(y_test, y_pred))\n",
        "# Accuracy score\n",
        "\n",
        "print('accuracy is',accuracy_score(y_pred,y_test))"
      ],
      "execution_count": null,
      "outputs": [
        {
          "output_type": "stream",
          "text": [
            "/usr/local/lib/python3.7/dist-packages/sklearn/utils/validation.py:760: DataConversionWarning: A column-vector y was passed when a 1d array was expected. Please change the shape of y to (n_samples, ), for example using ravel().\n",
            "  y = column_or_1d(y, warn=True)\n"
          ],
          "name": "stderr"
        },
        {
          "output_type": "stream",
          "text": [
            "              precision    recall  f1-score   support\n",
            "\n",
            "           0       1.00      1.00      1.00     85296\n",
            "           1       0.95      0.69      0.80       147\n",
            "\n",
            "    accuracy                           1.00     85443\n",
            "   macro avg       0.98      0.84      0.90     85443\n",
            "weighted avg       1.00      1.00      1.00     85443\n",
            "\n",
            "[[85291     5]\n",
            " [   46   101]]\n",
            "accuracy is 0.999403110845827\n"
          ],
          "name": "stdout"
        }
      ]
    },
    {
      "cell_type": "markdown",
      "metadata": {
        "id": "qq08CJ_ZBH0h"
      },
      "source": [
        "#Support Vector with RUS"
      ]
    },
    {
      "cell_type": "code",
      "metadata": {
        "colab": {
          "base_uri": "https://localhost:8080/"
        },
        "id": "zenTt4SBAvBQ",
        "outputId": "f6b5179a-a143-4822-bf3e-f432439d74dc"
      },
      "source": [
        "\n",
        "Model = SVC()\n",
        "Model.fit(X_train_rus, y_train_rus)\n",
        "y_pred = Model.predict(X_test)\n",
        "\n",
        "# Summary of the predictions made by the classifier\n",
        "print(classification_report(y_test, y_pred))\n",
        "print(confusion_matrix(y_test, y_pred))\n",
        "# Accuracy score\n",
        "\n",
        "print('accuracy is',accuracy_score(y_pred,y_test))"
      ],
      "execution_count": null,
      "outputs": [
        {
          "output_type": "stream",
          "text": [
            "/usr/local/lib/python3.7/dist-packages/sklearn/utils/validation.py:760: DataConversionWarning: A column-vector y was passed when a 1d array was expected. Please change the shape of y to (n_samples, ), for example using ravel().\n",
            "  y = column_or_1d(y, warn=True)\n"
          ],
          "name": "stderr"
        },
        {
          "output_type": "stream",
          "text": [
            "              precision    recall  f1-score   support\n",
            "\n",
            "           0       1.00      0.99      1.00     85296\n",
            "           1       0.14      0.86      0.24       147\n",
            "\n",
            "    accuracy                           0.99     85443\n",
            "   macro avg       0.57      0.93      0.62     85443\n",
            "weighted avg       1.00      0.99      0.99     85443\n",
            "\n",
            "[[84491   805]\n",
            " [   20   127]]\n",
            "accuracy is 0.9903444401530845\n"
          ],
          "name": "stdout"
        }
      ]
    },
    {
      "cell_type": "markdown",
      "metadata": {
        "id": "4sDxvBrYBALO"
      },
      "source": [
        "#Support Vector with ROS"
      ]
    },
    {
      "cell_type": "code",
      "metadata": {
        "colab": {
          "base_uri": "https://localhost:8080/"
        },
        "id": "Bg_FEr9FA74w",
        "outputId": "30945503-5574-4023-da30-6a479f625d37"
      },
      "source": [
        "\n",
        "Model = SVC()\n",
        "Model.fit(X_train_ros, y_train_ros)\n",
        "y_pred = Model.predict(X_test)\n",
        "\n",
        "# Summary of the predictions made by the classifier\n",
        "print(classification_report(y_test, y_pred))\n",
        "print(confusion_matrix(y_test, y_pred))\n",
        "# Accuracy score\n",
        "\n",
        "print('accuracy is',accuracy_score(y_pred,y_test))"
      ],
      "execution_count": null,
      "outputs": [
        {
          "output_type": "stream",
          "text": [
            "              precision    recall  f1-score   support\n",
            "\n",
            "           0       1.00      0.99      1.00     85296\n",
            "           1       0.14      0.88      0.23       147\n",
            "\n",
            "    accuracy                           0.99     85443\n",
            "   macro avg       0.57      0.93      0.61     85443\n",
            "weighted avg       1.00      0.99      0.99     85443\n",
            "\n",
            "[[84472   824]\n",
            " [   18   129]]\n",
            "accuracy is 0.9901454771016935\n"
          ],
          "name": "stdout"
        }
      ]
    },
    {
      "cell_type": "markdown",
      "metadata": {
        "id": "hXMdykrV9mlZ"
      },
      "source": [
        "#Support Vector using SMOTE"
      ]
    },
    {
      "cell_type": "code",
      "metadata": {
        "id": "op_M7GPEFOZ6",
        "colab": {
          "base_uri": "https://localhost:8080/"
        },
        "outputId": "a78edc20-8a88-4f6a-f200-13b015d844a3"
      },
      "source": [
        "\n",
        "Model = SVC()\n",
        "Model.fit(X_train_smote, y_train_smote)\n",
        "y_pred = Model.predict(X_test)\n",
        "\n",
        "# Summary of the predictions made by the classifier\n",
        "print(classification_report(y_test, y_pred))\n",
        "print(confusion_matrix(y_test, y_pred))\n",
        "# Accuracy score\n",
        "\n",
        "print('accuracy is',accuracy_score(y_pred,y_test))"
      ],
      "execution_count": null,
      "outputs": [
        {
          "output_type": "stream",
          "text": [
            "              precision    recall  f1-score   support\n",
            "\n",
            "           0       1.00      0.99      0.99     85296\n",
            "           1       0.10      0.87      0.18       147\n",
            "\n",
            "    accuracy                           0.99     85443\n",
            "   macro avg       0.55      0.93      0.59     85443\n",
            "weighted avg       1.00      0.99      0.99     85443\n",
            "\n",
            "[[84174  1122]\n",
            " [   19   128]]\n",
            "accuracy is 0.9866460681389932\n"
          ],
          "name": "stdout"
        }
      ]
    },
    {
      "cell_type": "markdown",
      "metadata": {
        "id": "0-JmDahGiZlq"
      },
      "source": [
        "#SVM with BLSMOTE"
      ]
    },
    {
      "cell_type": "code",
      "metadata": {
        "colab": {
          "base_uri": "https://localhost:8080/"
        },
        "id": "BzZIy1LNgQWB",
        "outputId": "1048adf7-a70d-4c0a-9efa-a96470e470ed"
      },
      "source": [
        "Model = SVC()\n",
        "Model.fit(X_train_blsmote, y_train_blsmote)\n",
        "y_pred = Model.predict(X_test)\n",
        "\n",
        "# Summary of the predictions made by the classifier\n",
        "print(classification_report(y_test, y_pred))\n",
        "print(confusion_matrix(y_test, y_pred))\n",
        "# Accuracy score\n",
        "\n",
        "print('accuracy is',accuracy_score(y_pred,y_test))"
      ],
      "execution_count": null,
      "outputs": [
        {
          "output_type": "stream",
          "text": [
            "              precision    recall  f1-score   support\n",
            "\n",
            "           0       1.00      1.00      1.00     85296\n",
            "           1       0.23      0.69      0.34       147\n",
            "\n",
            "    accuracy                           1.00     85443\n",
            "   macro avg       0.61      0.84      0.67     85443\n",
            "weighted avg       1.00      1.00      1.00     85443\n",
            "\n",
            "[[84957   339]\n",
            " [   46   101]]\n",
            "accuracy is 0.9954940720714395\n"
          ],
          "name": "stdout"
        }
      ]
    },
    {
      "cell_type": "markdown",
      "metadata": {
        "id": "UyCRGo_T-Gqu"
      },
      "source": [
        "# Autoencoder "
      ]
    },
    {
      "cell_type": "code",
      "metadata": {
        "id": "s59Xly6_jd16"
      },
      "source": [
        "from keras.layers import Input, Dense\n",
        "from keras import regularizers\n",
        "from keras.models import Model, load_model\n",
        "from keras.callbacks import ModelCheckpoint, TensorBoard"
      ],
      "execution_count": null,
      "outputs": []
    },
    {
      "cell_type": "code",
      "metadata": {
        "id": "RhVv5-Se0FIw"
      },
      "source": [
        ""
      ],
      "execution_count": null,
      "outputs": []
    },
    {
      "cell_type": "code",
      "metadata": {
        "id": "1JjmTwS5aAlD"
      },
      "source": [
        "input_dim = 30\n",
        "encoding_dim = 14"
      ],
      "execution_count": null,
      "outputs": []
    },
    {
      "cell_type": "code",
      "metadata": {
        "id": "iqoeeyfPaOvb",
        "colab": {
          "base_uri": "https://localhost:8080/",
          "height": 238
        },
        "outputId": "01ccc31d-0b0c-419f-f4bf-104a8e007466"
      },
      "source": [
        "input_layer = Input(shape=(input_dim))\n",
        "encoder = Dense(encoding_dim, activation=\"tanh\", \n",
        "                activity_regularizer=regularizers.l1(10e-5))(input_layer)\n",
        "encoder = Dense(int(encoding_dim / 2), activation=\"relu\")(encoder)\n",
        "\n",
        "decoder = Dense(int(encoding_dim / 2), activation='tanh')(encoder)\n",
        "decoder = Dense(input_dim, activation='relu')(decoder)\n",
        "\n",
        "autoencoder = Model(inputs=input_layer, outputs=decoder)\n"
      ],
      "execution_count": null,
      "outputs": [
        {
          "output_type": "error",
          "ename": "NameError",
          "evalue": "ignored",
          "traceback": [
            "\u001b[0;31m---------------------------------------------------------------------------\u001b[0m",
            "\u001b[0;31mNameError\u001b[0m                                 Traceback (most recent call last)",
            "\u001b[0;32m<ipython-input-95-2de850b557a0>\u001b[0m in \u001b[0;36m<module>\u001b[0;34m()\u001b[0m\n\u001b[0;32m----> 1\u001b[0;31m \u001b[0minput_layer\u001b[0m \u001b[0;34m=\u001b[0m \u001b[0mInput\u001b[0m\u001b[0;34m(\u001b[0m\u001b[0mshape\u001b[0m\u001b[0;34m=\u001b[0m\u001b[0;34m(\u001b[0m\u001b[0minput_dim\u001b[0m\u001b[0;34m)\u001b[0m\u001b[0;34m)\u001b[0m\u001b[0;34m\u001b[0m\u001b[0;34m\u001b[0m\u001b[0m\n\u001b[0m\u001b[1;32m      2\u001b[0m encoder = Dense(encoding_dim, activation=\"tanh\", \n\u001b[1;32m      3\u001b[0m                 activity_regularizer=regularizers.l1(10e-5))(input_layer)\n\u001b[1;32m      4\u001b[0m \u001b[0mencoder\u001b[0m \u001b[0;34m=\u001b[0m \u001b[0mDense\u001b[0m\u001b[0;34m(\u001b[0m\u001b[0mint\u001b[0m\u001b[0;34m(\u001b[0m\u001b[0mencoding_dim\u001b[0m \u001b[0;34m/\u001b[0m \u001b[0;36m2\u001b[0m\u001b[0;34m)\u001b[0m\u001b[0;34m,\u001b[0m \u001b[0mactivation\u001b[0m\u001b[0;34m=\u001b[0m\u001b[0;34m\"relu\"\u001b[0m\u001b[0;34m)\u001b[0m\u001b[0;34m(\u001b[0m\u001b[0mencoder\u001b[0m\u001b[0;34m)\u001b[0m\u001b[0;34m\u001b[0m\u001b[0;34m\u001b[0m\u001b[0m\n\u001b[1;32m      5\u001b[0m \u001b[0;34m\u001b[0m\u001b[0m\n",
            "\u001b[0;31mNameError\u001b[0m: name 'Input' is not defined"
          ]
        }
      ]
    },
    {
      "cell_type": "code",
      "metadata": {
        "id": "42i7TFZFaOba"
      },
      "source": [
        "autoencoder.compile(optimizer='adam',loss='mean_squared_error')"
      ],
      "execution_count": null,
      "outputs": []
    },
    {
      "cell_type": "code",
      "metadata": {
        "id": "sSyg007s08rj"
      },
      "source": [
        "history = autoencoder.fit(X_train, X_train, epochs = 50, batch_size=16,\n",
        "validation_data=(X_test,X_test)).history"
      ],
      "execution_count": null,
      "outputs": []
    },
    {
      "cell_type": "code",
      "metadata": {
        "id": "jis9yyCi08YC"
      },
      "source": [
        ""
      ],
      "execution_count": null,
      "outputs": []
    },
    {
      "cell_type": "code",
      "metadata": {
        "id": "VjYPg1tGaNwI"
      },
      "source": [
        "plt.figure(figsize = (10,5))\n",
        "plt.plot(history['loss'], label = 'Training Loss')\n",
        "plt.plot(history['val_loss'], label = 'CV Loss')\n",
        "plt.title(\"Model Loss\")\n",
        "plt.xlabel('Epochs')\n",
        "plt.ylabel('Loss')\n",
        "plt.grid()\n",
        "plt.legend()\n",
        "plt.show()\n"
      ],
      "execution_count": null,
      "outputs": []
    },
    {
      "cell_type": "code",
      "metadata": {
        "id": "vlmkFzsYZ_2H"
      },
      "source": [
        "predictions = autoencoder.predict(X_test)"
      ],
      "execution_count": null,
      "outputs": []
    },
    {
      "cell_type": "code",
      "metadata": {
        "id": "SDKPB6ZJyygK"
      },
      "source": [
        "mse = np.mean(np.power(X_test - predictions,2), axis=1)\n",
        "error = pd.DataFrame({'reconstruction_error': mse, 'actual_class': y_test.ravel()}) "
      ],
      "execution_count": null,
      "outputs": []
    },
    {
      "cell_type": "code",
      "metadata": {
        "id": "Xj4ZvtsWQGcw"
      },
      "source": [
        "without_fraud = error[error.actual_class==0]\n",
        "with_fraud = error[error.actual_class==1]"
      ],
      "execution_count": null,
      "outputs": []
    },
    {
      "cell_type": "code",
      "metadata": {
        "id": "cDGnhqlxQN1F"
      },
      "source": [
        "plt.figure(figsize=(16,5))\n",
        "\n",
        "plt.subplot(1,2,1)\n",
        "sns.distplot(without_fraud[\"reconstruction_error\"])\n",
        "plt.title(\"Reconstruction error without fraud\")\n",
        "\n",
        "plt.subplot(1,2,2)\n",
        "sns.distplot(with_fraud[\"reconstruction_error\"])\n",
        "plt.title(\"Reconstruction error with fraud\")\n",
        "\n",
        "plt.show()"
      ],
      "execution_count": null,
      "outputs": []
    },
    {
      "cell_type": "markdown",
      "metadata": {
        "id": "RGnu8tDMKw2l"
      },
      "source": [
        ""
      ]
    },
    {
      "cell_type": "code",
      "metadata": {
        "id": "JDWn2itM9OR8"
      },
      "source": [
        "from sklearn.metrics import confusion_matrix\n",
        "y_pred = [1 if e > 3 else 0 for e in error.reconstruction_error.values]\n",
        "print('Confusion Matrix\\n' + str(confusion_matrix(y_test, y_pred)))\n",
        "print(classification_report(y_test, y_pred))\n",
        "# Accuracy score\n",
        "print('accuracy is',accuracy_score(y_pred,y_test))"
      ],
      "execution_count": null,
      "outputs": []
    }
  ]
}